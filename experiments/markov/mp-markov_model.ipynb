{
 "cells": [
  {
   "cell_type": "code",
   "execution_count": 3,
   "metadata": {},
   "outputs": [],
   "source": [
    "#!pip3 install markovify"
   ]
  },
  {
   "cell_type": "code",
   "execution_count": 5,
   "metadata": {},
   "outputs": [],
   "source": [
    "import markovify as mrk\n",
    "import pandas as pd\n",
    "import os\n",
    "import random\n",
    "import pandas as pd\n",
    "import re\n",
    "import random\n",
    "from gensim import corpora, models, similarities"
   ]
  },
  {
   "cell_type": "code",
   "execution_count": null,
   "metadata": {},
   "outputs": [],
   "source": [
    "import os\n",
    "import sys\n",
    "\n",
    "# set path \n",
    "home_path = os.getenv('HOME') # create home directory\n",
    "dir_project = 'git/AIkek' # write your main proj directory\n",
    "\n",
    "PATH = os.path.join(home_path, dir_project)\n",
    "\n",
    "sys.path.append(PATH)"
   ]
  },
  {
   "cell_type": "code",
   "execution_count": 16,
   "metadata": {},
   "outputs": [],
   "source": [
    "from nltk.corpus import stopwords #.words('russian')\n",
    "stopwords = stopwords.words('russian')\n",
    "from string import punctuation\n",
    "punctuation += '«»'\n",
    "\n",
    "def clean_text(text):\n",
    "    d = re.sub('[{}]'.format(punctuation), ' ', text)\n",
    "    d = re.sub('  +', ' ', d)\n",
    "    d = ' '.join([i for i in d.lower().split() if i not in stopwords])\n",
    "    return d"
   ]
  },
  {
   "cell_type": "code",
   "execution_count": 6,
   "metadata": {},
   "outputs": [
    {
     "data": {
      "text/plain": [
       "not_clickbait    7002\n",
       "clickbait        4200\n",
       "Name: source, dtype: int64"
      ]
     },
     "execution_count": 6,
     "metadata": {},
     "output_type": "execute_result"
    }
   ],
   "source": [
    "df = pd.read_csv(f'{path4data}/data/processed/4markov_model.csv')\n",
    "df.source.value_counts()"
   ]
  },
  {
   "cell_type": "code",
   "execution_count": 7,
   "metadata": {},
   "outputs": [
    {
     "data": {
      "text/html": [
       "<div>\n",
       "<style scoped>\n",
       "    .dataframe tbody tr th:only-of-type {\n",
       "        vertical-align: middle;\n",
       "    }\n",
       "\n",
       "    .dataframe tbody tr th {\n",
       "        vertical-align: top;\n",
       "    }\n",
       "\n",
       "    .dataframe thead th {\n",
       "        text-align: right;\n",
       "    }\n",
       "</style>\n",
       "<table border=\"1\" class=\"dataframe\">\n",
       "  <thead>\n",
       "    <tr style=\"text-align: right;\">\n",
       "      <th></th>\n",
       "      <th>titles</th>\n",
       "      <th>source</th>\n",
       "      <th>file</th>\n",
       "    </tr>\n",
       "  </thead>\n",
       "  <tbody>\n",
       "    <tr>\n",
       "      <th>0</th>\n",
       "      <td>В России 30 докторов, увечивших людей с проста...</td>\n",
       "      <td>clickbait</td>\n",
       "      <td>three_website_yellow_titles</td>\n",
       "    </tr>\n",
       "    <tr>\n",
       "      <th>1</th>\n",
       "      <td>А как же Алла? Галкин лишился дара речи, увиде...</td>\n",
       "      <td>clickbait</td>\n",
       "      <td>three_website_yellow_titles</td>\n",
       "    </tr>\n",
       "    <tr>\n",
       "      <th>2</th>\n",
       "      <td>У кого диабет, прочтите - пока не удалили! За ...</td>\n",
       "      <td>clickbait</td>\n",
       "      <td>three_website_yellow_titles</td>\n",
       "    </tr>\n",
       "    <tr>\n",
       "      <th>3</th>\n",
       "      <td>Темникова оценила заявление о ее романе с Серя...</td>\n",
       "      <td>clickbait</td>\n",
       "      <td>three_website_yellow_titles</td>\n",
       "    </tr>\n",
       "    <tr>\n",
       "      <th>4</th>\n",
       "      <td>В НАТО нашли оружие против российских ракет</td>\n",
       "      <td>clickbait</td>\n",
       "      <td>three_website_yellow_titles</td>\n",
       "    </tr>\n",
       "  </tbody>\n",
       "</table>\n",
       "</div>"
      ],
      "text/plain": [
       "                                              titles     source  \\\n",
       "0  В России 30 докторов, увечивших людей с проста...  clickbait   \n",
       "1  А как же Алла? Галкин лишился дара речи, увиде...  clickbait   \n",
       "2  У кого диабет, прочтите - пока не удалили! За ...  clickbait   \n",
       "3  Темникова оценила заявление о ее романе с Серя...  clickbait   \n",
       "4        В НАТО нашли оружие против российских ракет  clickbait   \n",
       "\n",
       "                          file  \n",
       "0  three_website_yellow_titles  \n",
       "1  three_website_yellow_titles  \n",
       "2  three_website_yellow_titles  \n",
       "3  three_website_yellow_titles  \n",
       "4  three_website_yellow_titles  "
      ]
     },
     "execution_count": 7,
     "metadata": {},
     "output_type": "execute_result"
    }
   ],
   "source": [
    "df.head()"
   ]
  },
  {
   "cell_type": "code",
   "execution_count": 8,
   "metadata": {},
   "outputs": [],
   "source": [
    "#model = mrk.Text([re.sub(',', ' ', i) for i in texts])\n",
    "model = mrk.Text(df.titles.apply(lambda x:x.lower()))"
   ]
  },
  {
   "cell_type": "code",
   "execution_count": 13,
   "metadata": {},
   "outputs": [
    {
     "data": {
      "text/plain": [
       "['well_formed',\n",
       " 'retain_original',\n",
       " 'state_size',\n",
       " 'parsed_sentences',\n",
       " 'rejoined_text',\n",
       " 'chain']"
      ]
     },
     "execution_count": 13,
     "metadata": {},
     "output_type": "execute_result"
    }
   ],
   "source": [
    "list(vars(model))"
   ]
  },
  {
   "cell_type": "code",
   "execution_count": 23,
   "metadata": {},
   "outputs": [],
   "source": [
    "# Generate \n",
    "def generate_texts(model, number):\n",
    "    generated = []\n",
    "    n = 0\n",
    "    while n < number:\n",
    "        text = model.make_sentence()\n",
    "        if text not in ['', None] and len(text.split()) < 20 and text not in df.titles:\n",
    "            generated.append(re.sub('DIGIT', '{}'.format(random.randint(5, 100)), re.sub(' DOTS', '...', text)))\n",
    "            n += 1\n",
    "    return generated"
   ]
  },
  {
   "cell_type": "code",
   "execution_count": 24,
   "metadata": {},
   "outputs": [
    {
     "name": "stdout",
     "output_type": "stream",
     "text": [
      "Женщин больше не проблема\n",
      "Задержали пенсионера, который выращивал тонны грибов дома на продажу!\n",
      "Мужчинам после 50 лет, если всю неделю в ухо капать жирный...\n",
      "Четкое зрение будет в пределах...\n",
      "Морщины разгладятся в 50 выглядеть не больше, чем в 19.\n",
      "помогите астрономам найти новые антибиотики\n",
      "грядет революция в освещении ученые создали металлический водород они получат нобелевскую премию\n",
      "e итоги конференции playstation experience\n",
      "темный материал в разломах на поверхности спутника сатурна нашли необычные красные линии\n",
      "Главврач: Аптеки скрывали средство мощнее Экзодерила в 38 раз?\n"
     ]
    }
   ],
   "source": [
    "for i in generate_texts(model, 10):\n",
    "    print(i)"
   ]
  },
  {
   "cell_type": "code",
   "execution_count": 42,
   "metadata": {},
   "outputs": [],
   "source": [
    "def where_text(text):\n",
    "    for n, title in enumerate(df.titles):\n",
    "        if text in title:\n",
    "            print (df.iloc[n, :].file)"
   ]
  },
  {
   "cell_type": "code",
   "execution_count": 43,
   "metadata": {},
   "outputs": [
    {
     "name": "stdout",
     "output_type": "stream",
     "text": [
      "science2_titles\n"
     ]
    }
   ],
   "source": [
    "where_text('не один')"
   ]
  },
  {
   "cell_type": "code",
   "execution_count": 59,
   "metadata": {},
   "outputs": [],
   "source": []
  }
 ],
 "metadata": {
  "kernelspec": {
   "display_name": "Python 3",
   "language": "python",
   "name": "python3"
  },
  "language_info": {
   "codemirror_mode": {
    "name": "ipython",
    "version": 3
   },
   "file_extension": ".py",
   "mimetype": "text/x-python",
   "name": "python",
   "nbconvert_exporter": "python",
   "pygments_lexer": "ipython3",
   "version": "3.7.4"
  }
 },
 "nbformat": 4,
 "nbformat_minor": 4
}
