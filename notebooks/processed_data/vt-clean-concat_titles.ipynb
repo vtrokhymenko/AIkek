{
 "cells": [
  {
   "cell_type": "code",
   "execution_count": 1,
   "metadata": {},
   "outputs": [
    {
     "name": "stdout",
     "output_type": "stream",
     "text": [
      "/Volumes/sdVT/AIkek/env_aikek/bin/python\n",
      "Python 3.7.3\n",
      "/Volumes/sdVT/AIkek/notebooks/processed_data\n"
     ]
    }
   ],
   "source": [
    "!which python\n",
    "!python -V\n",
    "!pwd"
   ]
  },
  {
   "cell_type": "code",
   "execution_count": 2,
   "metadata": {},
   "outputs": [],
   "source": [
    "# import warnings\n",
    "# warnings.filterwarnings('ignore')\n",
    "\n",
    "import os\n",
    "import sys\n",
    "\n",
    "%load_ext autoreload\n",
    "%autoreload 2"
   ]
  },
  {
   "cell_type": "code",
   "execution_count": 4,
   "metadata": {},
   "outputs": [],
   "source": [
    "# set path \n",
    "# home_path = os.getenv('HOME') # create home directory\n",
    "dir_project = '/Volumes/sdVT/AIkek' # write your main proj directory \n",
    "\n",
    "# path = os.path.join(home_path, dir_project,'data') # will be work with directory `data`\n",
    "\n",
    "PATH = os.path.join(dir_project)\n",
    "\n",
    "sys.path.append(dir_project)"
   ]
  },
  {
   "cell_type": "code",
   "execution_count": 66,
   "metadata": {},
   "outputs": [],
   "source": [
    "import html\n",
    "\n",
    "import pandas as pd\n",
    "from numpy.random import randint "
   ]
  },
  {
   "cell_type": "code",
   "execution_count": 10,
   "metadata": {},
   "outputs": [],
   "source": [
    "# add clean_text\n",
    "from aikek.data.clean_text import cleanText"
   ]
  },
  {
   "cell_type": "markdown",
   "metadata": {},
   "source": [
    "___"
   ]
  },
  {
   "cell_type": "markdown",
   "metadata": {},
   "source": [
    "### test each portal to clean right"
   ]
  },
  {
   "cell_type": "markdown",
   "metadata": {},
   "source": [
    "* `yellow-only_title.csv`"
   ]
  },
  {
   "cell_type": "code",
   "execution_count": 7,
   "metadata": {},
   "outputs": [
    {
     "name": "stdout",
     "output_type": "stream",
     "text": [
      "(10761, 2)\n"
     ]
    },
    {
     "data": {
      "text/html": [
       "<div>\n",
       "<style scoped>\n",
       "    .dataframe tbody tr th:only-of-type {\n",
       "        vertical-align: middle;\n",
       "    }\n",
       "\n",
       "    .dataframe tbody tr th {\n",
       "        vertical-align: top;\n",
       "    }\n",
       "\n",
       "    .dataframe thead th {\n",
       "        text-align: right;\n",
       "    }\n",
       "</style>\n",
       "<table border=\"1\" class=\"dataframe\">\n",
       "  <thead>\n",
       "    <tr style=\"text-align: right;\">\n",
       "      <th></th>\n",
       "      <th>title</th>\n",
       "      <th>is_yellow</th>\n",
       "    </tr>\n",
       "  </thead>\n",
       "  <tbody>\n",
       "    <tr>\n",
       "      <th>0</th>\n",
       "      <td>Американские ученые совершили прорыв в области...</td>\n",
       "      <td>1</td>\n",
       "    </tr>\n",
       "    <tr>\n",
       "      <th>1</th>\n",
       "      <td>СМИ сообщили, что Пугачева купила квартиру в Л...</td>\n",
       "      <td>1</td>\n",
       "    </tr>\n",
       "  </tbody>\n",
       "</table>\n",
       "</div>"
      ],
      "text/plain": [
       "                                               title  is_yellow\n",
       "0  Американские ученые совершили прорыв в области...          1\n",
       "1  СМИ сообщили, что Пугачева купила квартиру в Л...          1"
      ]
     },
     "execution_count": 7,
     "metadata": {},
     "output_type": "execute_result"
    }
   ],
   "source": [
    "df_yellow = pd.read_csv(f'{PATH}/data/interim/yellow-only_title.csv')\n",
    "print(df_yellow.shape)\n",
    "df_yellow.head(2)"
   ]
  },
  {
   "cell_type": "code",
   "execution_count": 8,
   "metadata": {},
   "outputs": [
    {
     "data": {
      "text/plain": [
       "title        0\n",
       "is_yellow    0\n",
       "dtype: int64"
      ]
     },
     "execution_count": 8,
     "metadata": {},
     "output_type": "execute_result"
    }
   ],
   "source": [
    "df_yellow.isnull().sum()"
   ]
  },
  {
   "cell_type": "code",
   "execution_count": 139,
   "metadata": {},
   "outputs": [
    {
     "name": "stdout",
     "output_type": "stream",
     "text": [
      "Не губите сердце Корвалолом и Эналаприлом! Гипертония исчезнет, а сосуды очистятся если по утрам съедать кислый...\n"
     ]
    },
    {
     "data": {
      "text/plain": [
       "'Не губите сердце Корвалолом и Эналаприлом! Гипертония исчезнет, а сосуды очистятся если по утрам съедать кислый'"
      ]
     },
     "execution_count": 139,
     "metadata": {},
     "output_type": "execute_result"
    }
   ],
   "source": [
    "rand_number = randint(df_yellow.shape[0])\n",
    "rand_text = df_yellow.title[rand_number]\n",
    "\n",
    "print(rand_text)\n",
    "cleanText(rand_text)"
   ]
  },
  {
   "cell_type": "code",
   "execution_count": null,
   "metadata": {},
   "outputs": [],
   "source": []
  },
  {
   "cell_type": "markdown",
   "metadata": {},
   "source": [
    "* `news_lenta-only_title.csv.gz`"
   ]
  },
  {
   "cell_type": "code",
   "execution_count": 36,
   "metadata": {},
   "outputs": [
    {
     "name": "stdout",
     "output_type": "stream",
     "text": [
      "(699746, 3)\n"
     ]
    },
    {
     "data": {
      "text/html": [
       "<div>\n",
       "<style scoped>\n",
       "    .dataframe tbody tr th:only-of-type {\n",
       "        vertical-align: middle;\n",
       "    }\n",
       "\n",
       "    .dataframe tbody tr th {\n",
       "        vertical-align: top;\n",
       "    }\n",
       "\n",
       "    .dataframe thead th {\n",
       "        text-align: right;\n",
       "    }\n",
       "</style>\n",
       "<table border=\"1\" class=\"dataframe\">\n",
       "  <thead>\n",
       "    <tr style=\"text-align: right;\">\n",
       "      <th></th>\n",
       "      <th>tags</th>\n",
       "      <th>title</th>\n",
       "      <th>topic</th>\n",
       "    </tr>\n",
       "  </thead>\n",
       "  <tbody>\n",
       "    <tr>\n",
       "      <th>0</th>\n",
       "      <td>Общество</td>\n",
       "      <td>Илон Маск назвал педофилом спасавшего детей из...</td>\n",
       "      <td>Мир</td>\n",
       "    </tr>\n",
       "    <tr>\n",
       "      <th>1</th>\n",
       "      <td>Рынки</td>\n",
       "      <td>США задумались о распечатывании нефтяного резерва</td>\n",
       "      <td>Экономика</td>\n",
       "    </tr>\n",
       "  </tbody>\n",
       "</table>\n",
       "</div>"
      ],
      "text/plain": [
       "       tags                                              title      topic\n",
       "0  Общество  Илон Маск назвал педофилом спасавшего детей из...        Мир\n",
       "1     Рынки  США задумались о распечатывании нефтяного резерва  Экономика"
      ]
     },
     "execution_count": 36,
     "metadata": {},
     "output_type": "execute_result"
    }
   ],
   "source": [
    "df_lenta = pd.read_csv(f'{PATH}/data/interim/news_lenta-only_title.csv.gz', compression='gzip')\n",
    "print(df_lenta.shape)\n",
    "df_lenta.head(2)"
   ]
  },
  {
   "cell_type": "code",
   "execution_count": 37,
   "metadata": {},
   "outputs": [
    {
     "data": {
      "text/plain": [
       "tags     24049\n",
       "title        0\n",
       "topic        0\n",
       "dtype: int64"
      ]
     },
     "execution_count": 37,
     "metadata": {},
     "output_type": "execute_result"
    }
   ],
   "source": [
    "df_lenta.isnull().sum()"
   ]
  },
  {
   "cell_type": "code",
   "execution_count": 201,
   "metadata": {},
   "outputs": [
    {
     "name": "stdout",
     "output_type": "stream",
     "text": [
      "Четыре сборные отказались от поездки в Уфу на чемпионат Европы по биатлону\n"
     ]
    },
    {
     "data": {
      "text/plain": [
       "'Четыре сборные отказались от поездки в Уфу на чемпионат Европы по биатлону'"
      ]
     },
     "execution_count": 201,
     "metadata": {},
     "output_type": "execute_result"
    }
   ],
   "source": [
    "rand_number = randint(df_lenta.shape[0])\n",
    "rand_text = df_lenta.title[rand_number]\n",
    "\n",
    "print(rand_text)\n",
    "cleanText(rand_text)"
   ]
  },
  {
   "cell_type": "code",
   "execution_count": null,
   "metadata": {},
   "outputs": [],
   "source": []
  },
  {
   "cell_type": "markdown",
   "metadata": {},
   "source": [
    "* `nplus1-only_title.csv.gz`"
   ]
  },
  {
   "cell_type": "code",
   "execution_count": 203,
   "metadata": {},
   "outputs": [
    {
     "name": "stdout",
     "output_type": "stream",
     "text": [
      "(6529, 4)\n"
     ]
    },
    {
     "data": {
      "text/html": [
       "<div>\n",
       "<style scoped>\n",
       "    .dataframe tbody tr th:only-of-type {\n",
       "        vertical-align: middle;\n",
       "    }\n",
       "\n",
       "    .dataframe tbody tr th {\n",
       "        vertical-align: top;\n",
       "    }\n",
       "\n",
       "    .dataframe thead th {\n",
       "        text-align: right;\n",
       "    }\n",
       "</style>\n",
       "<table border=\"1\" class=\"dataframe\">\n",
       "  <thead>\n",
       "    <tr style=\"text-align: right;\">\n",
       "      <th></th>\n",
       "      <th>id</th>\n",
       "      <th>year</th>\n",
       "      <th>month</th>\n",
       "      <th>title</th>\n",
       "    </tr>\n",
       "  </thead>\n",
       "  <tbody>\n",
       "    <tr>\n",
       "      <th>0</th>\n",
       "      <td>1</td>\n",
       "      <td>2017</td>\n",
       "      <td>3</td>\n",
       "      <td>nvidia и paccar занялись разработкой беспилотн...</td>\n",
       "    </tr>\n",
       "    <tr>\n",
       "      <th>1</th>\n",
       "      <td>2</td>\n",
       "      <td>2017</td>\n",
       "      <td>3</td>\n",
       "      <td>обзор наушников fiio ex второго поколения эвол...</td>\n",
       "    </tr>\n",
       "  </tbody>\n",
       "</table>\n",
       "</div>"
      ],
      "text/plain": [
       "   id  year  month                                              title\n",
       "0   1  2017      3  nvidia и paccar занялись разработкой беспилотн...\n",
       "1   2  2017      3  обзор наушников fiio ex второго поколения эвол..."
      ]
     },
     "execution_count": 203,
     "metadata": {},
     "output_type": "execute_result"
    }
   ],
   "source": [
    "df_nplus1 = pd.read_csv(f'{PATH}/data/interim/nplus1-only_title.csv.gz', compression='gzip')\n",
    "print(df_nplus1.shape)\n",
    "df_nplus1.head(2)"
   ]
  },
  {
   "cell_type": "code",
   "execution_count": 462,
   "metadata": {},
   "outputs": [
    {
     "data": {
      "text/plain": [
       "id       0\n",
       "year     0\n",
       "month    0\n",
       "title    0\n",
       "dtype: int64"
      ]
     },
     "execution_count": 462,
     "metadata": {},
     "output_type": "execute_result"
    }
   ],
   "source": [
    "df_nplus1.isnull().sum()"
   ]
  },
  {
   "cell_type": "code",
   "execution_count": 283,
   "metadata": {},
   "outputs": [
    {
     "name": "stdout",
     "output_type": "stream",
     "text": [
      "microsoft создаст систему идентификации на базе блокчейна\n"
     ]
    },
    {
     "data": {
      "text/plain": [
       "'microsoft создаст систему идентификации на базе блокчейна'"
      ]
     },
     "execution_count": 283,
     "metadata": {},
     "output_type": "execute_result"
    }
   ],
   "source": [
    "rand_number = randint(df_nplus1.shape[0])\n",
    "rand_text = df_nplus1.title[rand_number]\n",
    "\n",
    "print(rand_text)\n",
    "cleanText(rand_text)"
   ]
  },
  {
   "cell_type": "code",
   "execution_count": null,
   "metadata": {},
   "outputs": [],
   "source": []
  },
  {
   "cell_type": "markdown",
   "metadata": {},
   "source": [
    "* `webhose_2016-only_title.csv.gz`"
   ]
  },
  {
   "cell_type": "code",
   "execution_count": 284,
   "metadata": {},
   "outputs": [
    {
     "name": "stdout",
     "output_type": "stream",
     "text": [
      "(289812, 3)\n"
     ]
    },
    {
     "data": {
      "text/html": [
       "<div>\n",
       "<style scoped>\n",
       "    .dataframe tbody tr th:only-of-type {\n",
       "        vertical-align: middle;\n",
       "    }\n",
       "\n",
       "    .dataframe tbody tr th {\n",
       "        vertical-align: top;\n",
       "    }\n",
       "\n",
       "    .dataframe thead th {\n",
       "        text-align: right;\n",
       "    }\n",
       "</style>\n",
       "<table border=\"1\" class=\"dataframe\">\n",
       "  <thead>\n",
       "    <tr style=\"text-align: right;\">\n",
       "      <th></th>\n",
       "      <th>site</th>\n",
       "      <th>published</th>\n",
       "      <th>title</th>\n",
       "    </tr>\n",
       "  </thead>\n",
       "  <tbody>\n",
       "    <tr>\n",
       "      <th>0</th>\n",
       "      <td>mk.ru</td>\n",
       "      <td>2016-10-20T16:02:00.000+03:00</td>\n",
       "      <td>Краснодарские школы вошли в Топ-500 лучших в Р...</td>\n",
       "    </tr>\n",
       "    <tr>\n",
       "      <th>1</th>\n",
       "      <td>vz.ru</td>\n",
       "      <td>2016-10-09T17:02:00.000+03:00</td>\n",
       "      <td>Террорист обстрелял трамвайную остановку в Иер...</td>\n",
       "    </tr>\n",
       "  </tbody>\n",
       "</table>\n",
       "</div>"
      ],
      "text/plain": [
       "    site                      published  \\\n",
       "0  mk.ru  2016-10-20T16:02:00.000+03:00   \n",
       "1  vz.ru  2016-10-09T17:02:00.000+03:00   \n",
       "\n",
       "                                               title  \n",
       "0  Краснодарские школы вошли в Топ-500 лучших в Р...  \n",
       "1  Террорист обстрелял трамвайную остановку в Иер...  "
      ]
     },
     "execution_count": 284,
     "metadata": {},
     "output_type": "execute_result"
    }
   ],
   "source": [
    "df_webhose = pd.read_csv(f'{PATH}/data/interim/webhose_2016-only_title.csv.gz', compression='gzip')\n",
    "print(df_webhose.shape)\n",
    "df_webhose.head(2)"
   ]
  },
  {
   "cell_type": "code",
   "execution_count": 461,
   "metadata": {},
   "outputs": [
    {
     "data": {
      "text/plain": [
       "site         0\n",
       "published    0\n",
       "title        0\n",
       "dtype: int64"
      ]
     },
     "execution_count": 461,
     "metadata": {},
     "output_type": "execute_result"
    }
   ],
   "source": [
    "df_webhose.isnull().sum()"
   ]
  },
  {
   "cell_type": "code",
   "execution_count": 457,
   "metadata": {},
   "outputs": [
    {
     "name": "stdout",
     "output_type": "stream",
     "text": [
      "Источник: в Нижнем Новгороде обнаружена квартира злоумышленников\n"
     ]
    },
    {
     "data": {
      "text/plain": [
       "'Источник: в Нижнем Новгороде обнаружена квартира злоумышленников'"
      ]
     },
     "execution_count": 457,
     "metadata": {},
     "output_type": "execute_result"
    }
   ],
   "source": [
    "rand_number = randint(df_webhose.shape[0])\n",
    "rand_text = df_webhose.title[rand_number]\n",
    "\n",
    "print(rand_text)\n",
    "cleanText(rand_text)"
   ]
  },
  {
   "cell_type": "code",
   "execution_count": null,
   "metadata": {},
   "outputs": [],
   "source": []
  },
  {
   "cell_type": "markdown",
   "metadata": {},
   "source": [
    "* `ria-only_title.csv.gz`"
   ]
  },
  {
   "cell_type": "code",
   "execution_count": 459,
   "metadata": {},
   "outputs": [
    {
     "name": "stdout",
     "output_type": "stream",
     "text": [
      "(1003840, 1)\n"
     ]
    },
    {
     "data": {
      "text/html": [
       "<div>\n",
       "<style scoped>\n",
       "    .dataframe tbody tr th:only-of-type {\n",
       "        vertical-align: middle;\n",
       "    }\n",
       "\n",
       "    .dataframe tbody tr th {\n",
       "        vertical-align: top;\n",
       "    }\n",
       "\n",
       "    .dataframe thead th {\n",
       "        text-align: right;\n",
       "    }\n",
       "</style>\n",
       "<table border=\"1\" class=\"dataframe\">\n",
       "  <thead>\n",
       "    <tr style=\"text-align: right;\">\n",
       "      <th></th>\n",
       "      <th>title</th>\n",
       "    </tr>\n",
       "  </thead>\n",
       "  <tbody>\n",
       "    <tr>\n",
       "      <th>0</th>\n",
       "      <td>большинство детей, которых пытались увезти в с...</td>\n",
       "    </tr>\n",
       "    <tr>\n",
       "      <th>1</th>\n",
       "      <td>луценко будет работать в команде тимошенко, ес...</td>\n",
       "    </tr>\n",
       "  </tbody>\n",
       "</table>\n",
       "</div>"
      ],
      "text/plain": [
       "                                               title\n",
       "0  большинство детей, которых пытались увезти в с...\n",
       "1  луценко будет работать в команде тимошенко, ес..."
      ]
     },
     "execution_count": 459,
     "metadata": {},
     "output_type": "execute_result"
    }
   ],
   "source": [
    "df_ria = pd.read_csv(f'{PATH}/data/interim/ria-only_title.csv.gz', compression='gzip')\n",
    "print(df_ria.shape)\n",
    "df_ria.head(2)"
   ]
  },
  {
   "cell_type": "code",
   "execution_count": 460,
   "metadata": {},
   "outputs": [
    {
     "data": {
      "text/plain": [
       "title    0\n",
       "dtype: int64"
      ]
     },
     "execution_count": 460,
     "metadata": {},
     "output_type": "execute_result"
    }
   ],
   "source": [
    "df_ria.isnull().sum()"
   ]
  },
  {
   "cell_type": "code",
   "execution_count": 490,
   "metadata": {},
   "outputs": [
    {
     "name": "stdout",
     "output_type": "stream",
     "text": [
      "кто в лес\n"
     ]
    },
    {
     "data": {
      "text/plain": [
       "'кто в лес'"
      ]
     },
     "execution_count": 490,
     "metadata": {},
     "output_type": "execute_result"
    }
   ],
   "source": [
    "rand_number = randint(df_ria.shape[0])\n",
    "rand_text = df_ria.title[rand_number]\n",
    "\n",
    "print(rand_text)\n",
    "cleanText(rand_text)"
   ]
  },
  {
   "cell_type": "markdown",
   "metadata": {},
   "source": [
    "---"
   ]
  },
  {
   "cell_type": "markdown",
   "metadata": {},
   "source": [
    "### concat data"
   ]
  },
  {
   "cell_type": "code",
   "execution_count": 491,
   "metadata": {},
   "outputs": [
    {
     "name": "stdout",
     "output_type": "stream",
     "text": [
      "(2010688, 1)\n"
     ]
    },
    {
     "data": {
      "text/html": [
       "<div>\n",
       "<style scoped>\n",
       "    .dataframe tbody tr th:only-of-type {\n",
       "        vertical-align: middle;\n",
       "    }\n",
       "\n",
       "    .dataframe tbody tr th {\n",
       "        vertical-align: top;\n",
       "    }\n",
       "\n",
       "    .dataframe thead th {\n",
       "        text-align: right;\n",
       "    }\n",
       "</style>\n",
       "<table border=\"1\" class=\"dataframe\">\n",
       "  <thead>\n",
       "    <tr style=\"text-align: right;\">\n",
       "      <th></th>\n",
       "      <th>title</th>\n",
       "    </tr>\n",
       "  </thead>\n",
       "  <tbody>\n",
       "    <tr>\n",
       "      <th>2010683</th>\n",
       "      <td>крупнейшими учениями для вс россии в 2015 году...</td>\n",
       "    </tr>\n",
       "    <tr>\n",
       "      <th>2010684</th>\n",
       "      <td>рвсн россии проведут в 2015 году более ста учений</td>\n",
       "    </tr>\n",
       "    <tr>\n",
       "      <th>2010685</th>\n",
       "      <td>сухопутные войска россии в 2015 году проведут ...</td>\n",
       "    </tr>\n",
       "    <tr>\n",
       "      <th>2010686</th>\n",
       "      <td>еще несколько сожженных тел нашли в мексиканск...</td>\n",
       "    </tr>\n",
       "    <tr>\n",
       "      <th>2010687</th>\n",
       "      <td>гумчс: цех горит на севере москвы на площади 2...</td>\n",
       "    </tr>\n",
       "  </tbody>\n",
       "</table>\n",
       "</div>"
      ],
      "text/plain": [
       "                                                     title\n",
       "2010683  крупнейшими учениями для вс россии в 2015 году...\n",
       "2010684  рвсн россии проведут в 2015 году более ста учений\n",
       "2010685  сухопутные войска россии в 2015 году проведут ...\n",
       "2010686  еще несколько сожженных тел нашли в мексиканск...\n",
       "2010687  гумчс: цех горит на севере москвы на площади 2..."
      ]
     },
     "execution_count": 491,
     "metadata": {},
     "output_type": "execute_result"
    }
   ],
   "source": [
    "concat_data = pd.concat([df_yellow.title, df_lenta.title, df_nplus1.title, df_webhose.title, df_ria.title],\n",
    "                        ignore_index=True)\n",
    "\n",
    "concat_data = pd.DataFrame(concat_data)\n",
    "\n",
    "print(concat_data.shape)\n",
    "concat_data.tail()"
   ]
  },
  {
   "cell_type": "markdown",
   "metadata": {},
   "source": [
    "drop small size title"
   ]
  },
  {
   "cell_type": "code",
   "execution_count": 492,
   "metadata": {},
   "outputs": [],
   "source": [
    "concat_data['len_title'] = concat_data.title.apply(lambda x: len(x))"
   ]
  },
  {
   "cell_type": "code",
   "execution_count": 493,
   "metadata": {
    "scrolled": true
   },
   "outputs": [
    {
     "data": {
      "text/plain": [
       "70     120856\n",
       "69     115397\n",
       "68     107489\n",
       "67      99096\n",
       "66      91459\n",
       "65      85805\n",
       "64      79280\n",
       "63      72715\n",
       "62      67713\n",
       "61      62409\n",
       "60      59242\n",
       "59      55010\n",
       "58      53075\n",
       "57      50340\n",
       "56      48425\n",
       "55      46435\n",
       "54      44453\n",
       "53      42310\n",
       "52      40496\n",
       "51      38531\n",
       "50      37452\n",
       "49      35208\n",
       "48      32862\n",
       "47      30491\n",
       "46      28348\n",
       "45      26582\n",
       "44      24638\n",
       "43      22428\n",
       "71      22400\n",
       "72      21136\n",
       "        ...  \n",
       "299         1\n",
       "307         1\n",
       "311         1\n",
       "316         1\n",
       "318         1\n",
       "343         1\n",
       "344         1\n",
       "373         1\n",
       "374         1\n",
       "256         1\n",
       "255         1\n",
       "254         1\n",
       "230         1\n",
       "188         1\n",
       "196         1\n",
       "205         1\n",
       "211         1\n",
       "217         1\n",
       "225         1\n",
       "226         1\n",
       "236         1\n",
       "253         1\n",
       "237         1\n",
       "242         1\n",
       "244         1\n",
       "246         1\n",
       "249         1\n",
       "250         1\n",
       "251         1\n",
       "1           1\n",
       "Name: len_title, Length: 247, dtype: int64"
      ]
     },
     "execution_count": 493,
     "metadata": {},
     "output_type": "execute_result"
    }
   ],
   "source": [
    "concat_data.len_title.value_counts()"
   ]
  },
  {
   "cell_type": "code",
   "execution_count": 494,
   "metadata": {},
   "outputs": [
    {
     "data": {
      "text/plain": [
       "(2009306, 2)"
      ]
     },
     "execution_count": 494,
     "metadata": {},
     "output_type": "execute_result"
    }
   ],
   "source": [
    "concat_data = concat_data[concat_data.len_title>5]\n",
    "concat_data.shape"
   ]
  },
  {
   "cell_type": "code",
   "execution_count": 496,
   "metadata": {},
   "outputs": [],
   "source": [
    "# save only with column `title`\n",
    "concat_data.to_csv(f'{PATH}/data/interim/concat_title_clean.csv.gz', compression='gzip', index=False)\n"
   ]
  },
  {
   "cell_type": "code",
   "execution_count": null,
   "metadata": {},
   "outputs": [],
   "source": []
  }
 ],
 "metadata": {
  "kernelspec": {
   "display_name": "Python 3",
   "language": "python",
   "name": "python3"
  },
  "language_info": {
   "codemirror_mode": {
    "name": "ipython",
    "version": 3
   },
   "file_extension": ".py",
   "mimetype": "text/x-python",
   "name": "python",
   "nbconvert_exporter": "python",
   "pygments_lexer": "ipython3",
   "version": "3.7.3"
  }
 },
 "nbformat": 4,
 "nbformat_minor": 4
}
