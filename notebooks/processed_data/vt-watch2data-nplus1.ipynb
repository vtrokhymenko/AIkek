{
 "cells": [
  {
   "cell_type": "code",
   "execution_count": 1,
   "metadata": {},
   "outputs": [
    {
     "name": "stdout",
     "output_type": "stream",
     "text": [
      "/Volumes/sdVT/AIkek/env_aikek/bin/python\n",
      "Python 3.7.3\n",
      "/Volumes/sdVT/AIkek/notebooks/processed_data\n"
     ]
    }
   ],
   "source": [
    "!which python\n",
    "!python -V\n",
    "!pwd"
   ]
  },
  {
   "cell_type": "code",
   "execution_count": 2,
   "metadata": {},
   "outputs": [],
   "source": [
    "# import warnings\n",
    "# warnings.filterwarnings('ignore')"
   ]
  },
  {
   "cell_type": "code",
   "execution_count": 3,
   "metadata": {},
   "outputs": [],
   "source": [
    "import os\n",
    "\n",
    "# set path \n",
    "# home_path = os.getenv('HOME') # create home directory\n",
    "dir_project = '/Volumes/sdVT/AIkek' # write your main proj directory \n",
    "\n",
    "# path = os.path.join(home_path, dir_project,'data') # will be work with directory `data`\n",
    "path4data = os.path.join(dir_project,'data')"
   ]
  },
  {
   "cell_type": "code",
   "execution_count": 4,
   "metadata": {},
   "outputs": [],
   "source": [
    "import pandas as pd\n",
    "import numpy as np"
   ]
  },
  {
   "cell_type": "markdown",
   "metadata": {},
   "source": [
    "___"
   ]
  },
  {
   "cell_type": "code",
   "execution_count": 5,
   "metadata": {},
   "outputs": [
    {
     "name": "stdout",
     "output_type": "stream",
     "text": [
      "(6529, 5)\n"
     ]
    },
    {
     "data": {
      "text/html": [
       "<div>\n",
       "<style scoped>\n",
       "    .dataframe tbody tr th:only-of-type {\n",
       "        vertical-align: middle;\n",
       "    }\n",
       "\n",
       "    .dataframe tbody tr th {\n",
       "        vertical-align: top;\n",
       "    }\n",
       "\n",
       "    .dataframe thead th {\n",
       "        text-align: right;\n",
       "    }\n",
       "</style>\n",
       "<table border=\"1\" class=\"dataframe\">\n",
       "  <thead>\n",
       "    <tr style=\"text-align: right;\">\n",
       "      <th></th>\n",
       "      <th>id</th>\n",
       "      <th>year</th>\n",
       "      <th>month</th>\n",
       "      <th>title</th>\n",
       "      <th>text</th>\n",
       "    </tr>\n",
       "  </thead>\n",
       "  <tbody>\n",
       "    <tr>\n",
       "      <th>0</th>\n",
       "      <td>1</td>\n",
       "      <td>2017</td>\n",
       "      <td>3</td>\n",
       "      <td>nvidia и paccar занялись разработкой беспилотн...</td>\n",
       "      <td>На днях стало известно о том, что NVIDIA подпи...</td>\n",
       "    </tr>\n",
       "    <tr>\n",
       "      <th>1</th>\n",
       "      <td>2</td>\n",
       "      <td>2017</td>\n",
       "      <td>3</td>\n",
       "      <td>обзор наушников fiio ex второго поколения эвол...</td>\n",
       "      <td>В Fiio давно поняли, что, помимо плееров, поте...</td>\n",
       "    </tr>\n",
       "  </tbody>\n",
       "</table>\n",
       "</div>"
      ],
      "text/plain": [
       "   id  year  month                                              title  \\\n",
       "0   1  2017      3  nvidia и paccar занялись разработкой беспилотн...   \n",
       "1   2  2017      3  обзор наушников fiio ex второго поколения эвол...   \n",
       "\n",
       "                                                text  \n",
       "0  На днях стало известно о том, что NVIDIA подпи...  \n",
       "1  В Fiio давно поняли, что, помимо плееров, поте...  "
      ]
     },
     "execution_count": 5,
     "metadata": {},
     "output_type": "execute_result"
    }
   ],
   "source": [
    "#df_yellow = pd.read_csv(f'{path4data}/interim/df_yellow.csv')\n",
    "df_nplus = pd.read_csv(f'{path4data}/interim/nplus1.csv.gz', compression='gzip')\n",
    "print(df_nplus.shape)\n",
    "df_nplus.head(2)"
   ]
  },
  {
   "cell_type": "code",
   "execution_count": 6,
   "metadata": {},
   "outputs": [
    {
     "data": {
      "text/plain": [
       "title        0\n",
       "is_yellow    0\n",
       "dtype: int64"
      ]
     },
     "execution_count": 6,
     "metadata": {},
     "output_type": "execute_result"
    }
   ],
   "source": [
    "df_nplus.isnull().sum()"
   ]
  },
  {
   "cell_type": "code",
   "execution_count": null,
   "metadata": {},
   "outputs": [],
   "source": []
  },
  {
   "cell_type": "code",
   "execution_count": 13,
   "metadata": {},
   "outputs": [
    {
     "name": "stdout",
     "output_type": "stream",
     "text": [
      "title: появился способ предсказать деменцию за лет до ее появления\n",
      "text: Датские исследователи обнаружили способ предсказать развитие деменции или старческого слабоумия за 10 лет до появления болезни. Метод основан на анализе пола, возраста, а также различия в определенных генах. О выводах исследования сообщается в журнале Canadian Medical Association Journal.  В статье указывается, что деменция является одной из основных причин потери трудоспособности у людей старшего возраста. Вылечить это заболевание пока не представляется возможным, однако имеется возможность снизить риск его развития с помощью профилактики. Ученые отмечают, что одним из самых наиболее эффективных способов профилактики деменции является постоянное обучение. Подпитка нашего мозга новыми знаниями вызывает формирование новых нейронных связей. Очень полезно читать книги и даже разгадывать кроссворды и другие головоломки. Согласно выводам более ранних исследований, задачи, развивающие внимание, способны на 29 процентов снизить вероятность развития деменции через 10 лет. В исследовании датских ученых говорится о том, что основными факторами, влияющими на тот или иной уровень риска развитии деменции, являются возраст, пол, а также различия в генах, кодирующих белок аполипопротеин E.  Вероятность развития болезни Альцгеймера, сосудистой деменции и прочих видов деменции в зависимости от генотипов APOE, с учетом пола и возраста Ученые отмечают, что чаще всего причиной развития деменции (в 70 процентах случаев) является развитие болезни Альцгеймера, которая примерно в 70% случаев является причиной деменции. При этом старческим слабоумием чаще всего страдают женщины. Что касается аполипопротеина E, то одна из его разновидностей (APOE4) напрямую влияет на развитие болезни Альцгеймера. Проанализировав данные 104 537 людей с деменцией из Копенгагена, медики обнаружили, что комбинация возраста, пола и вариации в гене APOE позволяют определить группы с наиболее высоким риском развития старческого слабоумия. В выводах исследователей отмечается, что для женщин и мужчин в возрасте 60 лет риск развития деменции составляет 7% и 6% соответственно, для 70-летних вероятность составляет 16% и 12%, а для 80-летних и старше — 24% и 19%. Датчане уверены, что новый метод анализа позволит предсказывать появление деменции за 10 лет до начала ее развития. Обсудить новость можно в нашем официальном Telegram-чате Hi-News.ru. Для отправки комментария вы должны авторизоваться или зарегистрироваться.\n"
     ]
    }
   ],
   "source": [
    "rand_shape_df_lenta = np.random.randint(df_nplus.shape[0])\n",
    "\n",
    "print(f'title: {df_nplus.title[rand_shape_df_lenta]}')\n",
    "print(f'text: {df_nplus.text[rand_shape_df_lenta]}')"
   ]
  },
  {
   "cell_type": "code",
   "execution_count": null,
   "metadata": {},
   "outputs": [],
   "source": []
  },
  {
   "cell_type": "code",
   "execution_count": 16,
   "metadata": {},
   "outputs": [],
   "source": [
    "# save only with column `title`\n",
    "df_nplus[['id','year','month','title']].to_csv(f'{path4data}/interim/nplus1-only_title.csv.gz', compression='gzip', index=False)"
   ]
  },
  {
   "cell_type": "code",
   "execution_count": null,
   "metadata": {},
   "outputs": [],
   "source": []
  }
 ],
 "metadata": {
  "kernelspec": {
   "display_name": "Python 3",
   "language": "python",
   "name": "python3"
  },
  "language_info": {
   "codemirror_mode": {
    "name": "ipython",
    "version": 3
   },
   "file_extension": ".py",
   "mimetype": "text/x-python",
   "name": "python",
   "nbconvert_exporter": "python",
   "pygments_lexer": "ipython3",
   "version": "3.7.3"
  }
 },
 "nbformat": 4,
 "nbformat_minor": 4
}
