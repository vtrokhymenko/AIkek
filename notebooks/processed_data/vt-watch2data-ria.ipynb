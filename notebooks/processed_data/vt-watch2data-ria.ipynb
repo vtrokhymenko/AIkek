{
 "cells": [
  {
   "cell_type": "code",
   "execution_count": 1,
   "metadata": {},
   "outputs": [
    {
     "name": "stdout",
     "output_type": "stream",
     "text": [
      "/Volumes/sdVT/AIkek/env_aikek/bin/python\n",
      "Python 3.7.3\n",
      "/Volumes/sdVT/AIkek/notebooks/processed_data\n"
     ]
    }
   ],
   "source": [
    "!which python\n",
    "!python -V\n",
    "!pwd"
   ]
  },
  {
   "cell_type": "code",
   "execution_count": 2,
   "metadata": {},
   "outputs": [],
   "source": [
    "# import warnings\n",
    "# warnings.filterwarnings('ignore')"
   ]
  },
  {
   "cell_type": "code",
   "execution_count": 3,
   "metadata": {},
   "outputs": [],
   "source": [
    "import os\n",
    "\n",
    "# set path \n",
    "# home_path = os.getenv('HOME') # create home directory\n",
    "dir_project = '/Volumes/sdVT/AIkek' # write your main proj directory \n",
    "\n",
    "# path = os.path.join(home_path, dir_project,'data') # will be work with directory `data`\n",
    "path4data = os.path.join(dir_project,'data')"
   ]
  },
  {
   "cell_type": "code",
   "execution_count": 4,
   "metadata": {},
   "outputs": [],
   "source": [
    "import pandas as pd\n",
    "import numpy as np"
   ]
  },
  {
   "cell_type": "markdown",
   "metadata": {},
   "source": [
    "___"
   ]
  },
  {
   "cell_type": "code",
   "execution_count": 5,
   "metadata": {},
   "outputs": [
    {
     "name": "stdout",
     "output_type": "stream",
     "text": [
      "(1003840, 2)\n"
     ]
    },
    {
     "data": {
      "text/html": [
       "<div>\n",
       "<style scoped>\n",
       "    .dataframe tbody tr th:only-of-type {\n",
       "        vertical-align: middle;\n",
       "    }\n",
       "\n",
       "    .dataframe tbody tr th {\n",
       "        vertical-align: top;\n",
       "    }\n",
       "\n",
       "    .dataframe thead th {\n",
       "        text-align: right;\n",
       "    }\n",
       "</style>\n",
       "<table border=\"1\" class=\"dataframe\">\n",
       "  <thead>\n",
       "    <tr style=\"text-align: right;\">\n",
       "      <th></th>\n",
       "      <th>title</th>\n",
       "      <th>text</th>\n",
       "    </tr>\n",
       "  </thead>\n",
       "  <tbody>\n",
       "    <tr>\n",
       "      <th>0</th>\n",
       "      <td>большинство детей, которых пытались увезти в с...</td>\n",
       "      <td>&lt;p&gt;&lt;strong&gt;&lt;/strong&gt;&lt;/p&gt;\\n&lt;p&gt;&lt;strong&gt;москва, 3...</td>\n",
       "    </tr>\n",
       "    <tr>\n",
       "      <th>1</th>\n",
       "      <td>луценко будет работать в команде тимошенко, ес...</td>\n",
       "      <td>&lt;p&gt;&lt;strong&gt;&lt;/strong&gt;&lt;/p&gt;\\n&lt;p&gt;&lt;strong&gt;киев, 31 ...</td>\n",
       "    </tr>\n",
       "  </tbody>\n",
       "</table>\n",
       "</div>"
      ],
      "text/plain": [
       "                                               title  \\\n",
       "0  большинство детей, которых пытались увезти в с...   \n",
       "1  луценко будет работать в команде тимошенко, ес...   \n",
       "\n",
       "                                                text  \n",
       "0  <p><strong></strong></p>\\n<p><strong>москва, 3...  \n",
       "1  <p><strong></strong></p>\\n<p><strong>киев, 31 ...  "
      ]
     },
     "execution_count": 5,
     "metadata": {},
     "output_type": "execute_result"
    }
   ],
   "source": [
    "#df_yellow = pd.read_csv(f'{path4data}/interim/df_yellow.csv')\n",
    "df_ria = pd.read_csv(f'{path4data}/interim/ria.csv.gz', compression='gzip')\n",
    "print(df_ria.shape)\n",
    "df_ria.head(2)"
   ]
  },
  {
   "cell_type": "code",
   "execution_count": 6,
   "metadata": {},
   "outputs": [
    {
     "data": {
      "text/plain": [
       "title    0\n",
       "text     0\n",
       "dtype: int64"
      ]
     },
     "execution_count": 6,
     "metadata": {},
     "output_type": "execute_result"
    }
   ],
   "source": [
    "df_ria.isnull().sum()"
   ]
  },
  {
   "cell_type": "code",
   "execution_count": null,
   "metadata": {},
   "outputs": [],
   "source": []
  },
  {
   "cell_type": "code",
   "execution_count": 7,
   "metadata": {},
   "outputs": [
    {
     "name": "stdout",
     "output_type": "stream",
     "text": [
      "title: встреча представителей властей и оппозиции армении состоится в ереване\n",
      "text: <p><strong></strong></p>\n",
      "<p><strong>ереван, 26 июл - риа новости, гамлет матевосян.</strong> вторая встреча рабочих групп по диалогу между представителями правящей коалиции и оппозиционного армянского национального конгресса пройдет во вторник, сообщили риа новости в пресс-службе национального собрания армении.</p>\n",
      "<p>предполагается, что на встрече, которая начнется в 12.00 (11.00 мск) в  доме приемов правительства, будет сформирована повестка переговоров.</p>\n",
      "<p>первая встреча между представителями правящей коалиции и оппозиционного анк состоялась 18 июля за закрытыми дверями. стороны оценили ее положительно, тем не менее конгресс продолжает настаивать на проведении внеочередных парламентских и президентских выборов.</p>\n",
      "<p>конгресс также потребовал, чтобы дальнейшие встречи проходили на нейтральной территории и либо транслировались в прямом эфире, либо после каждой встречи анк получал, по крайней мере, полчаса прямого эфира по общественному телевидению, чтобы представить армянскому обществу свою точку зрения по разным вопросам.</p>\n",
      "<p>кроме того, анк потребовал снять запрет с трансляции материалов о митингах конгресса по телевидению, прекратить устрашение правоохранительными органами населения перед митингами конгресса и не препятствовать проведению самих митингов, в частности не блокировать транспорт.</p>\n",
      "<p>в переговорах со стороны властей армении участвует сформированная коалиционными партиями рабочая группа в составе председателя парламентской комиссии по государственно-правовым вопросам давида арутюняна и председателя парламентской комиссии по финансово-бюджетным вопросам гагика минасяна (республиканская партия армении), председателя парламентской комиссии по вопросам евроинтеграции наиры зограбян и депутата парламента вардана бостанджяна (партия \"процветающая армения\"), мгера шахгельдяна и депутата парламента хачика арутюняна (партия \"оринац еркир\").</p>\n",
      "<p>делегацию в составе пяти представителей анк возглавляет координатор конгресса левон зурабян. в делегацию также входят представитель центрального офиса анк давид шахназарян, член экономической комиссии анк ваагн хачатрян, секретарь правления входящей в анк народной партии армении феликс хачатрян, зампредседателя правления входящего в анк армянского общенационального движения самвел абрамян.</p>\n",
      "<p>власти до последнего времени отвергали предлагаемый анк формат переговоров. в настоящее время они отвергают и возможность проведения внеочередных выборов. очередные парламентские выборы в армении должны пройти в мае 2012 года, а президентские - в феврале 2013 года.</p>\n",
      "<p>армянский национальный конгресс был создан 1 августа 2008 года. в составе анк - около 20 политических партий и организаций. лидел анк - первый президент армении левон тер-петросян.</p>\n",
      "<p>партии \"процветающая армения\" и \"оринац еркир\" входят в возглавляемую республиканской партией армении правящую коалицию, сформированную 21 марта 2008 года.</p>\n"
     ]
    }
   ],
   "source": [
    "rand_shape_df_lenta = np.random.randint(df_ria.shape[0])\n",
    "\n",
    "print(f'title: {df_ria.title[rand_shape_df_lenta]}')\n",
    "print(f'text: {df_ria.text[rand_shape_df_lenta]}')"
   ]
  },
  {
   "cell_type": "code",
   "execution_count": 8,
   "metadata": {},
   "outputs": [],
   "source": [
    "# save only with column `title`\n",
    "pd.DataFrame(df_ria['title']).to_csv(f'{path4data}/interim/ria-only_title.csv.gz', compression='gzip', index=False)\n"
   ]
  },
  {
   "cell_type": "code",
   "execution_count": null,
   "metadata": {},
   "outputs": [],
   "source": []
  }
 ],
 "metadata": {
  "kernelspec": {
   "display_name": "Python 3",
   "language": "python",
   "name": "python3"
  },
  "language_info": {
   "codemirror_mode": {
    "name": "ipython",
    "version": 3
   },
   "file_extension": ".py",
   "mimetype": "text/x-python",
   "name": "python",
   "nbconvert_exporter": "python",
   "pygments_lexer": "ipython3",
   "version": "3.7.3"
  }
 },
 "nbformat": 4,
 "nbformat_minor": 4
}
