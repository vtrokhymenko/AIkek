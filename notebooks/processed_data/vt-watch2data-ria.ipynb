{
 "cells": [
  {
   "cell_type": "code",
   "execution_count": 1,
   "metadata": {},
   "outputs": [
    {
     "name": "stdout",
     "output_type": "stream",
     "text": [
      "/Volumes/sdVT/AIkek/env_aikek/bin/python\n",
      "Python 3.7.3\n",
      "/Volumes/sdVT/AIkek/notebooks/processed_data\n"
     ]
    }
   ],
   "source": [
    "!which python\n",
    "!python -V\n",
    "!pwd"
   ]
  },
  {
   "cell_type": "code",
   "execution_count": 2,
   "metadata": {},
   "outputs": [],
   "source": [
    "# import warnings\n",
    "# warnings.filterwarnings('ignore')"
   ]
  },
  {
   "cell_type": "code",
   "execution_count": 3,
   "metadata": {},
   "outputs": [],
   "source": [
    "import os\n",
    "\n",
    "# set path \n",
    "# home_path = os.getenv('HOME') # create home directory\n",
    "dir_project = '/Volumes/sdVT/AIkek' # write your main proj directory \n",
    "\n",
    "# path = os.path.join(home_path, dir_project,'data') # will be work with directory `data`\n",
    "path4data = os.path.join(dir_project,'data')"
   ]
  },
  {
   "cell_type": "code",
   "execution_count": 5,
   "metadata": {},
   "outputs": [],
   "source": [
    "import pandas as pd\n",
    "import numpy as np"
   ]
  },
  {
   "cell_type": "markdown",
   "metadata": {},
   "source": [
    "___"
   ]
  },
  {
   "cell_type": "code",
   "execution_count": 6,
   "metadata": {},
   "outputs": [
    {
     "name": "stdout",
     "output_type": "stream",
     "text": [
      "(1003840, 2)\n"
     ]
    },
    {
     "data": {
      "text/html": [
       "<div>\n",
       "<style scoped>\n",
       "    .dataframe tbody tr th:only-of-type {\n",
       "        vertical-align: middle;\n",
       "    }\n",
       "\n",
       "    .dataframe tbody tr th {\n",
       "        vertical-align: top;\n",
       "    }\n",
       "\n",
       "    .dataframe thead th {\n",
       "        text-align: right;\n",
       "    }\n",
       "</style>\n",
       "<table border=\"1\" class=\"dataframe\">\n",
       "  <thead>\n",
       "    <tr style=\"text-align: right;\">\n",
       "      <th></th>\n",
       "      <th>title</th>\n",
       "      <th>text</th>\n",
       "    </tr>\n",
       "  </thead>\n",
       "  <tbody>\n",
       "    <tr>\n",
       "      <th>0</th>\n",
       "      <td>большинство детей, которых пытались увезти в с...</td>\n",
       "      <td>&lt;p&gt;&lt;strong&gt;&lt;/strong&gt;&lt;/p&gt;\\n&lt;p&gt;&lt;strong&gt;москва, 3...</td>\n",
       "    </tr>\n",
       "    <tr>\n",
       "      <th>1</th>\n",
       "      <td>луценко будет работать в команде тимошенко, ес...</td>\n",
       "      <td>&lt;p&gt;&lt;strong&gt;&lt;/strong&gt;&lt;/p&gt;\\n&lt;p&gt;&lt;strong&gt;киев, 31 ...</td>\n",
       "    </tr>\n",
       "  </tbody>\n",
       "</table>\n",
       "</div>"
      ],
      "text/plain": [
       "                                               title  \\\n",
       "0  большинство детей, которых пытались увезти в с...   \n",
       "1  луценко будет работать в команде тимошенко, ес...   \n",
       "\n",
       "                                                text  \n",
       "0  <p><strong></strong></p>\\n<p><strong>москва, 3...  \n",
       "1  <p><strong></strong></p>\\n<p><strong>киев, 31 ...  "
      ]
     },
     "execution_count": 6,
     "metadata": {},
     "output_type": "execute_result"
    }
   ],
   "source": [
    "#df_yellow = pd.read_csv(f'{path4data}/interim/df_yellow.csv')\n",
    "df_ria = pd.read_csv(f'{path4data}/interim/ria.csv.gz', compression='gzip')\n",
    "print(df_ria.shape)\n",
    "df_ria.head(2)"
   ]
  },
  {
   "cell_type": "code",
   "execution_count": 7,
   "metadata": {},
   "outputs": [
    {
     "data": {
      "text/plain": [
       "title    0\n",
       "text     0\n",
       "dtype: int64"
      ]
     },
     "execution_count": 7,
     "metadata": {},
     "output_type": "execute_result"
    }
   ],
   "source": [
    "df_ria.isnull().sum()"
   ]
  },
  {
   "cell_type": "code",
   "execution_count": null,
   "metadata": {},
   "outputs": [],
   "source": []
  },
  {
   "cell_type": "code",
   "execution_count": 22,
   "metadata": {},
   "outputs": [
    {
     "name": "stdout",
     "output_type": "stream",
     "text": [
      "title: звезда голливуда дастин хоффман спас жизнь молодому мужчине\n",
      "text: <p><strong></strong></p>\n",
      "<p><strong>москва, 8 мая - риа новости.</strong> легендарный актер дастин хоффман спас жизнь мужчине, у которого остановилось сердце во время пробежки по лондонскому гайд-парку, сообщает во вторник газета <a href=\"http://www.dailymail.co.uk/home/index.html\" target=\"_blank\">daily mail</a>.</p>\n",
      "<p>как отмечает издание, инцидент произошел еще в конце апреля, когда 27-летний сэм демпстер (sam dempster) совершал пробежку по гайд-парку. неожиданно его сердце остановилось, и он упал. по данным газеты, именно в это время в гайд-парке прогуливался хоффман.</p>\n",
      "<p>звезда голливуда немедленно позвонил в службу спасения, сотрудники которой прибыли на место происшествия и \"заставили\" сердце молодого человека забиться вновь.</p>\n",
      "<p>как отмечает daily mail, в настоящее время демпстер находится в больнице и идет на поправку. он ничего не помнит об инциденте, который произошел около десяти дней назад. несмотря на отсутствие воспоминаний о пережитом, счастливо избежавший смерти бегун заявил, что благодарен звезде культового фильма \"человек дождя\".</p>\n",
      "<p>для самого 74-летнего актера этот эпизод вряд ли был сильным потрясением - в кино его героям приходилось спасать тысячи людей. но даже одна жизнь, спасенная в реальности, безусловно, большое достижение.</p>\n",
      "<p>голливудский актер дастин хоффман, чью славу составили фильмы \"выпускник\", \"полуночный ковбой\", \"тутси\" и \"человек дождя\", - одна из самых титулованных голливудских звезд: в его коллекции есть два \"оскара\" и четыре премии bafta. актер женат, от двух браков имеет пятерых детей.</p>\n"
     ]
    }
   ],
   "source": [
    "rand_shape_df_lenta = np.random.randint(df_ria.shape[0])\n",
    "\n",
    "print(f'title: {df_ria.title[rand_shape_df_lenta]}')\n",
    "print(f'text: {df_ria.text[rand_shape_df_lenta]}')"
   ]
  },
  {
   "cell_type": "code",
   "execution_count": 28,
   "metadata": {},
   "outputs": [],
   "source": [
    "# save only with column `title`\n",
    "pd.DataFrame(df_ria['title']).to_csv(f'{path4data}/interim/ria-only_title.csv.gz', compression='gzip', index=False)\n"
   ]
  },
  {
   "cell_type": "code",
   "execution_count": null,
   "metadata": {},
   "outputs": [],
   "source": []
  }
 ],
 "metadata": {
  "kernelspec": {
   "display_name": "Python 3",
   "language": "python",
   "name": "python3"
  },
  "language_info": {
   "codemirror_mode": {
    "name": "ipython",
    "version": 3
   },
   "file_extension": ".py",
   "mimetype": "text/x-python",
   "name": "python",
   "nbconvert_exporter": "python",
   "pygments_lexer": "ipython3",
   "version": "3.7.3"
  }
 },
 "nbformat": 4,
 "nbformat_minor": 4
}
