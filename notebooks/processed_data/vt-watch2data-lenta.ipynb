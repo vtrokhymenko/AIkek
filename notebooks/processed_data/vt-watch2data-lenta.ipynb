{
 "cells": [
  {
   "cell_type": "code",
   "execution_count": 1,
   "metadata": {},
   "outputs": [
    {
     "name": "stdout",
     "output_type": "stream",
     "text": [
      "/Volumes/sdVT/AIkek/env_aikek/bin/python\n",
      "Python 3.7.3\n",
      "/Volumes/sdVT/AIkek/notebooks/work_with_data\n"
     ]
    }
   ],
   "source": [
    "!which python\n",
    "!python -V\n",
    "!pwd"
   ]
  },
  {
   "cell_type": "code",
   "execution_count": 2,
   "metadata": {},
   "outputs": [],
   "source": [
    "# import warnings\n",
    "# warnings.filterwarnings('ignore')"
   ]
  },
  {
   "cell_type": "code",
   "execution_count": 3,
   "metadata": {},
   "outputs": [],
   "source": [
    "import os\n",
    "\n",
    "# set path \n",
    "# home_path = os.getenv('HOME') # create home directory\n",
    "dir_project = '/Volumes/sdVT/AIkek' # write your main proj directory \n",
    "\n",
    "# path = os.path.join(home_path, dir_project,'data') # will be work with directory `data`\n",
    "path4data = os.path.join(dir_project,'data')"
   ]
  },
  {
   "cell_type": "code",
   "execution_count": 4,
   "metadata": {},
   "outputs": [],
   "source": [
    "import pandas as pd\n",
    "import numpy as np"
   ]
  },
  {
   "cell_type": "markdown",
   "metadata": {},
   "source": [
    "___"
   ]
  },
  {
   "cell_type": "code",
   "execution_count": 8,
   "metadata": {},
   "outputs": [
    {
     "data": {
      "text/html": [
       "<div>\n",
       "<style scoped>\n",
       "    .dataframe tbody tr th:only-of-type {\n",
       "        vertical-align: middle;\n",
       "    }\n",
       "\n",
       "    .dataframe tbody tr th {\n",
       "        vertical-align: top;\n",
       "    }\n",
       "\n",
       "    .dataframe thead th {\n",
       "        text-align: right;\n",
       "    }\n",
       "</style>\n",
       "<table border=\"1\" class=\"dataframe\">\n",
       "  <thead>\n",
       "    <tr style=\"text-align: right;\">\n",
       "      <th></th>\n",
       "      <th>tags</th>\n",
       "      <th>text</th>\n",
       "      <th>title</th>\n",
       "      <th>topic</th>\n",
       "      <th>url</th>\n",
       "    </tr>\n",
       "  </thead>\n",
       "  <tbody>\n",
       "    <tr>\n",
       "      <th>0</th>\n",
       "      <td>Общество</td>\n",
       "      <td>Миллиардер Илон Маск в резкой форме ответил бр...</td>\n",
       "      <td>Илон Маск назвал педофилом спасавшего детей из...</td>\n",
       "      <td>Мир</td>\n",
       "      <td>https://lenta.ru/news/2018/07/16/su57/</td>\n",
       "    </tr>\n",
       "    <tr>\n",
       "      <th>1</th>\n",
       "      <td>Рынки</td>\n",
       "      <td>США и их западные союзники рассматривают возмо...</td>\n",
       "      <td>США задумались о распечатывании нефтяного резерва</td>\n",
       "      <td>Экономика</td>\n",
       "      <td>https://lenta.ru/news/2018/07/16/foes/</td>\n",
       "    </tr>\n",
       "  </tbody>\n",
       "</table>\n",
       "</div>"
      ],
      "text/plain": [
       "       tags                                               text  \\\n",
       "0  Общество  Миллиардер Илон Маск в резкой форме ответил бр...   \n",
       "1     Рынки  США и их западные союзники рассматривают возмо...   \n",
       "\n",
       "                                               title      topic  \\\n",
       "0  Илон Маск назвал педофилом спасавшего детей из...        Мир   \n",
       "1  США задумались о распечатывании нефтяного резерва  Экономика   \n",
       "\n",
       "                                      url  \n",
       "0  https://lenta.ru/news/2018/07/16/su57/  \n",
       "1  https://lenta.ru/news/2018/07/16/foes/  "
      ]
     },
     "execution_count": 8,
     "metadata": {},
     "output_type": "execute_result"
    }
   ],
   "source": [
    "df_lenta = pd.read_csv(f'{path4data}/interim/news_lenta.csv.gz', compression='gzip') # from https://toolbox.google.com/datasetsearch/search?query=News%20dataset%20from%20Lenta.Ru&docid=WZBj5lLTe7UR9JeoAAAAAA%3D%3D\n",
    "df_lenta.shape\n",
    "df_lenta.head(2)"
   ]
  },
  {
   "cell_type": "code",
   "execution_count": 11,
   "metadata": {},
   "outputs": [
    {
     "data": {
      "text/plain": [
       "tags     24049\n",
       "text         0\n",
       "title        0\n",
       "topic        0\n",
       "url          0\n",
       "dtype: int64"
      ]
     },
     "execution_count": 11,
     "metadata": {},
     "output_type": "execute_result"
    }
   ],
   "source": [
    "df_lenta.isnull().sum()"
   ]
  },
  {
   "cell_type": "code",
   "execution_count": 12,
   "metadata": {},
   "outputs": [
    {
     "data": {
      "text/plain": [
       "Россия               158072\n",
       "Мир                  134334\n",
       "Экономика             77673\n",
       "Спорт                 62463\n",
       "Культура              52600\n",
       "Бывший СССР           52018\n",
       "Наука и техника       51869\n",
       "Интернет и СМИ        43313\n",
       "Из жизни              26356\n",
       "Силовые структуры     18480\n",
       "Бизнес                 7398\n",
       "Ценности               6832\n",
       "Путешествия            6045\n",
       "69-я параллель         1095\n",
       "Крым                    666\n",
       "Культпросвет            340\n",
       "Легпром                 114\n",
       "Библиотека               65\n",
       "Дом                       6\n",
       "Оружие                    3\n",
       "ЧМ-2014                   2\n",
       "Сочи                      1\n",
       "МедНовости                1\n",
       "Name: topic, dtype: int64"
      ]
     },
     "execution_count": 12,
     "metadata": {},
     "output_type": "execute_result"
    }
   ],
   "source": [
    "df_lenta.topic.value_counts()"
   ]
  },
  {
   "cell_type": "code",
   "execution_count": null,
   "metadata": {},
   "outputs": [],
   "source": []
  },
  {
   "cell_type": "code",
   "execution_count": 32,
   "metadata": {},
   "outputs": [
    {
     "name": "stdout",
     "output_type": "stream",
     "text": [
      "title: Госдума предложила освободить торговлю спортсменами от НДС\n",
      "text: 15 ноября налоговый подкомитет Госдумы рекомендовал принять законопроект, предлагающий освобождать от уплаты НДС средства, которые получают спортивные клубы при переходе игроков из одного клуба в другой. Депутаты посчитали, что спортсмены не являются товаром, приносящим выручку, и поэтому НДС в данном случае собирать не надо. При этом, законопроект получил отрицательное заключение в правительстве - на том основании, что мировая практика сложилась таким образом, что подобные сделки все-таки облагаются НДС, пишет \"Комммерсант\". К другому предложению депутатов - освободить от налогов средства, направляемые на финансирование детско-юношеских спортивных школ (ДЮСШ) правительство также отнеслось негативно, поскольку большинство ДЮСШ, будучи либо государственными, либо некоммерческими организациями, и так освобождены от налогов на безвозмездно получаемое имущество. Законопроект внесен в Думу командой депутатов, среди которых председатель комитета по собственности Виктор Плескачевский, глава комитета по законодательству Павел Крашенинников и глава налогового подкомитета Госдумы Наталья Бурыкина. Освободить сделки между клубами от НДС предполагается с первого января 2007 года. Сумма бюджетных поступлений от операций по переходу спортсменов из одного клуба в другой составляет на настоящий момент около 125 миллионов рублей в год.\n"
     ]
    }
   ],
   "source": [
    "rand_shape_df_lenta = np.random.randint(df_lenta.shape[0])\n",
    "\n",
    "print(f'title: {df_lenta.title[rand_shape_df_lenta]}')\n",
    "print(f'text: {df_lenta.text[rand_shape_df_lenta]}')"
   ]
  },
  {
   "cell_type": "code",
   "execution_count": null,
   "metadata": {},
   "outputs": [],
   "source": []
  },
  {
   "cell_type": "code",
   "execution_count": null,
   "metadata": {},
   "outputs": [],
   "source": []
  }
 ],
 "metadata": {
  "kernelspec": {
   "display_name": "Python 3",
   "language": "python",
   "name": "python3"
  },
  "language_info": {
   "codemirror_mode": {
    "name": "ipython",
    "version": 3
   },
   "file_extension": ".py",
   "mimetype": "text/x-python",
   "name": "python",
   "nbconvert_exporter": "python",
   "pygments_lexer": "ipython3",
   "version": "3.7.3"
  }
 },
 "nbformat": 4,
 "nbformat_minor": 4
}
