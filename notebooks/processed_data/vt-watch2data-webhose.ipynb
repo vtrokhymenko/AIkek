{
 "cells": [
  {
   "cell_type": "code",
   "execution_count": 1,
   "metadata": {},
   "outputs": [
    {
     "name": "stdout",
     "output_type": "stream",
     "text": [
      "/Volumes/sdVT/AIkek/env_aikek/bin/python\n",
      "Python 3.7.3\n",
      "/Volumes/sdVT/AIkek/notebooks/processed_data\n"
     ]
    }
   ],
   "source": [
    "!which python\n",
    "!python -V\n",
    "!pwd"
   ]
  },
  {
   "cell_type": "code",
   "execution_count": 2,
   "metadata": {},
   "outputs": [],
   "source": [
    "# import warnings\n",
    "# warnings.filterwarnings('ignore')"
   ]
  },
  {
   "cell_type": "code",
   "execution_count": 3,
   "metadata": {},
   "outputs": [],
   "source": [
    "import os\n",
    "\n",
    "# set path \n",
    "# home_path = os.getenv('HOME') # create home directory\n",
    "dir_project = '/Volumes/sdVT/AIkek' # write your main proj directory \n",
    "\n",
    "# path = os.path.join(home_path, dir_project,'data') # will be work with directory `data`\n",
    "path4data = os.path.join(dir_project,'data')"
   ]
  },
  {
   "cell_type": "code",
   "execution_count": 4,
   "metadata": {},
   "outputs": [],
   "source": [
    "import pandas as pd\n",
    "import numpy as np"
   ]
  },
  {
   "cell_type": "markdown",
   "metadata": {},
   "source": [
    "___"
   ]
  },
  {
   "cell_type": "code",
   "execution_count": 6,
   "metadata": {},
   "outputs": [
    {
     "name": "stdout",
     "output_type": "stream",
     "text": [
      "(289813, 6)\n"
     ]
    },
    {
     "data": {
      "text/html": [
       "<div>\n",
       "<style scoped>\n",
       "    .dataframe tbody tr th:only-of-type {\n",
       "        vertical-align: middle;\n",
       "    }\n",
       "\n",
       "    .dataframe tbody tr th {\n",
       "        vertical-align: top;\n",
       "    }\n",
       "\n",
       "    .dataframe thead th {\n",
       "        text-align: right;\n",
       "    }\n",
       "</style>\n",
       "<table border=\"1\" class=\"dataframe\">\n",
       "  <thead>\n",
       "    <tr style=\"text-align: right;\">\n",
       "      <th></th>\n",
       "      <th>site</th>\n",
       "      <th>published</th>\n",
       "      <th>url</th>\n",
       "      <th>text</th>\n",
       "      <th>title</th>\n",
       "      <th>language</th>\n",
       "    </tr>\n",
       "  </thead>\n",
       "  <tbody>\n",
       "    <tr>\n",
       "      <th>0</th>\n",
       "      <td>mk.ru</td>\n",
       "      <td>2016-10-20T16:02:00.000+03:00</td>\n",
       "      <td>http://kuban.mk.ru/articles/2016/10/20/krasnod...</td>\n",
       "      <td>Краснодарские школы вошли в Топ-500 лучших в Р...</td>\n",
       "      <td>Краснодарские школы вошли в Топ-500 лучших в Р...</td>\n",
       "      <td>russian</td>\n",
       "    </tr>\n",
       "    <tr>\n",
       "      <th>1</th>\n",
       "      <td>vz.ru</td>\n",
       "      <td>2016-10-09T17:02:00.000+03:00</td>\n",
       "      <td>http://www.vz.ru/news/2016/10/9/836974.html</td>\n",
       "      <td>, передает ТАСС .  По данным Haaretz, одна из ...</td>\n",
       "      <td>Террорист обстрелял трамвайную остановку в Иер...</td>\n",
       "      <td>russian</td>\n",
       "    </tr>\n",
       "  </tbody>\n",
       "</table>\n",
       "</div>"
      ],
      "text/plain": [
       "    site                      published  \\\n",
       "0  mk.ru  2016-10-20T16:02:00.000+03:00   \n",
       "1  vz.ru  2016-10-09T17:02:00.000+03:00   \n",
       "\n",
       "                                                 url  \\\n",
       "0  http://kuban.mk.ru/articles/2016/10/20/krasnod...   \n",
       "1        http://www.vz.ru/news/2016/10/9/836974.html   \n",
       "\n",
       "                                                text  \\\n",
       "0  Краснодарские школы вошли в Топ-500 лучших в Р...   \n",
       "1  , передает ТАСС .  По данным Haaretz, одна из ...   \n",
       "\n",
       "                                               title language  \n",
       "0  Краснодарские школы вошли в Топ-500 лучших в Р...  russian  \n",
       "1  Террорист обстрелял трамвайную остановку в Иер...  russian  "
      ]
     },
     "execution_count": 6,
     "metadata": {},
     "output_type": "execute_result"
    }
   ],
   "source": [
    "#df_yellow = pd.read_csv(f'{path4data}/interim/df_yellow.csv')\n",
    "df_webhose = pd.read_csv(f'{path4data}/interim/webhose_2016.csv.gz', compression='gzip')\n",
    "print(df_webhose.shape)\n",
    "df_webhose.head(2)"
   ]
  },
  {
   "cell_type": "code",
   "execution_count": 6,
   "metadata": {},
   "outputs": [
    {
     "data": {
      "text/plain": [
       "title        0\n",
       "is_yellow    0\n",
       "dtype: int64"
      ]
     },
     "execution_count": 6,
     "metadata": {},
     "output_type": "execute_result"
    }
   ],
   "source": [
    "df_webhose.isnull().sum()"
   ]
  },
  {
   "cell_type": "code",
   "execution_count": 12,
   "metadata": {},
   "outputs": [
    {
     "data": {
      "text/plain": [
       "russian    289813\n",
       "Name: language, dtype: int64"
      ]
     },
     "execution_count": 12,
     "metadata": {},
     "output_type": "execute_result"
    }
   ],
   "source": [
    "df_webhose.language.value_counts()"
   ]
  },
  {
   "cell_type": "code",
   "execution_count": null,
   "metadata": {},
   "outputs": [],
   "source": []
  },
  {
   "cell_type": "code",
   "execution_count": 10,
   "metadata": {},
   "outputs": [
    {
     "name": "stdout",
     "output_type": "stream",
     "text": [
      "title: В Роскосмосе установили мемориальную доску академику Бармину\n",
      "text: Москва Под руководством Бармина были разработаны стартовые комплексы для многих ракет, в том числе и для межконтинентальной баллистической ракеты Р-7, которая вывела на орбиту Земли первый в истории искусственный спутник. Памятный знак в честь ученого в Роскосмосе установили еще и по другой причине. В этом здании Владимир Бармин проработал около 20 лет.\n"
     ]
    }
   ],
   "source": [
    "rand_shape_df_lenta = np.random.randint(df_webhose.shape[0])\n",
    "\n",
    "print(f'title: {df_webhose.title[rand_shape_df_lenta]}')\n",
    "print(f'text: {df_webhose.text[rand_shape_df_lenta]}')"
   ]
  },
  {
   "cell_type": "code",
   "execution_count": 11,
   "metadata": {},
   "outputs": [
    {
     "data": {
      "text/html": [
       "<div>\n",
       "<style scoped>\n",
       "    .dataframe tbody tr th:only-of-type {\n",
       "        vertical-align: middle;\n",
       "    }\n",
       "\n",
       "    .dataframe tbody tr th {\n",
       "        vertical-align: top;\n",
       "    }\n",
       "\n",
       "    .dataframe thead th {\n",
       "        text-align: right;\n",
       "    }\n",
       "</style>\n",
       "<table border=\"1\" class=\"dataframe\">\n",
       "  <thead>\n",
       "    <tr style=\"text-align: right;\">\n",
       "      <th></th>\n",
       "      <th>site</th>\n",
       "      <th>published</th>\n",
       "      <th>url</th>\n",
       "      <th>text</th>\n",
       "      <th>title</th>\n",
       "      <th>language</th>\n",
       "    </tr>\n",
       "  </thead>\n",
       "  <tbody>\n",
       "    <tr>\n",
       "      <th>0</th>\n",
       "      <td>mk.ru</td>\n",
       "      <td>2016-10-20T16:02:00.000+03:00</td>\n",
       "      <td>http://kuban.mk.ru/articles/2016/10/20/krasnod...</td>\n",
       "      <td>Краснодарские школы вошли в Топ-500 лучших в Р...</td>\n",
       "      <td>Краснодарские школы вошли в Топ-500 лучших в Р...</td>\n",
       "      <td>russian</td>\n",
       "    </tr>\n",
       "    <tr>\n",
       "      <th>1</th>\n",
       "      <td>vz.ru</td>\n",
       "      <td>2016-10-09T17:02:00.000+03:00</td>\n",
       "      <td>http://www.vz.ru/news/2016/10/9/836974.html</td>\n",
       "      <td>, передает ТАСС .  По данным Haaretz, одна из ...</td>\n",
       "      <td>Террорист обстрелял трамвайную остановку в Иер...</td>\n",
       "      <td>russian</td>\n",
       "    </tr>\n",
       "  </tbody>\n",
       "</table>\n",
       "</div>"
      ],
      "text/plain": [
       "    site                      published  \\\n",
       "0  mk.ru  2016-10-20T16:02:00.000+03:00   \n",
       "1  vz.ru  2016-10-09T17:02:00.000+03:00   \n",
       "\n",
       "                                                 url  \\\n",
       "0  http://kuban.mk.ru/articles/2016/10/20/krasnod...   \n",
       "1        http://www.vz.ru/news/2016/10/9/836974.html   \n",
       "\n",
       "                                                text  \\\n",
       "0  Краснодарские школы вошли в Топ-500 лучших в Р...   \n",
       "1  , передает ТАСС .  По данным Haaretz, одна из ...   \n",
       "\n",
       "                                               title language  \n",
       "0  Краснодарские школы вошли в Топ-500 лучших в Р...  russian  \n",
       "1  Террорист обстрелял трамвайную остановку в Иер...  russian  "
      ]
     },
     "execution_count": 11,
     "metadata": {},
     "output_type": "execute_result"
    }
   ],
   "source": [
    "df_webhose.head(2)"
   ]
  },
  {
   "cell_type": "code",
   "execution_count": 13,
   "metadata": {},
   "outputs": [],
   "source": [
    "# save only with column `title`\n",
    "df_webhose[['site','published','title']].to_csv(f'{path4data}/interim/webhose_2016-only_title.csv.gz', compression='gzip', index=False)\n"
   ]
  },
  {
   "cell_type": "code",
   "execution_count": null,
   "metadata": {},
   "outputs": [],
   "source": []
  }
 ],
 "metadata": {
  "kernelspec": {
   "display_name": "Python 3",
   "language": "python",
   "name": "python3"
  },
  "language_info": {
   "codemirror_mode": {
    "name": "ipython",
    "version": 3
   },
   "file_extension": ".py",
   "mimetype": "text/x-python",
   "name": "python",
   "nbconvert_exporter": "python",
   "pygments_lexer": "ipython3",
   "version": "3.7.3"
  }
 },
 "nbformat": 4,
 "nbformat_minor": 4
}
