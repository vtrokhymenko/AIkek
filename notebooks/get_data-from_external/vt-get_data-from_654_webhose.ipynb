{
 "cells": [
  {
   "cell_type": "code",
   "execution_count": 1,
   "metadata": {},
   "outputs": [
    {
     "name": "stdout",
     "output_type": "stream",
     "text": [
      "/Volumes/sdVT/AIkek/env_aikek/bin/python\n",
      "/Volumes/sdVT/AIkek/notebooks/get_data-from_external\n"
     ]
    }
   ],
   "source": [
    "!which python\n",
    "!pwd"
   ]
  },
  {
   "cell_type": "code",
   "execution_count": 2,
   "metadata": {},
   "outputs": [],
   "source": [
    "# import warnings\n",
    "# warnings.filterwarnings('ignore')\n",
    "\n",
    "from IPython.core.interactiveshell import InteractiveShell\n",
    "InteractiveShell.ast_node_interactivity = \"all\""
   ]
  },
  {
   "cell_type": "code",
   "execution_count": 3,
   "metadata": {},
   "outputs": [],
   "source": [
    "import gc\n",
    "import os\n",
    "import glob\n",
    "# glob.glob('*' ), os.listdir('.')\n",
    "\n",
    "import pandas as pd\n",
    "import json\n",
    "from pprint import pprint\n",
    "from tqdm import tqdm"
   ]
  },
  {
   "cell_type": "code",
   "execution_count": null,
   "metadata": {},
   "outputs": [],
   "source": []
  },
  {
   "cell_type": "markdown",
   "metadata": {},
   "source": [
    "___"
   ]
  },
  {
   "cell_type": "markdown",
   "metadata": {},
   "source": [
    "### test read & parse json"
   ]
  },
  {
   "cell_type": "code",
   "execution_count": 4,
   "metadata": {},
   "outputs": [
    {
     "data": {
      "text/plain": [
       "'/Users/vtrokhymenko/Downloads/654_webhose-2016-10_20170904093421'"
      ]
     },
     "execution_count": 4,
     "metadata": {},
     "output_type": "execute_result"
    }
   ],
   "source": [
    "# set path \n",
    "home_path = os.getenv('HOME') # create home directory\n",
    "dir_project = 'Downloads' # write your main proj directory \n",
    "\n",
    "path4data = os.path.join(home_path, dir_project,'654_webhose-2016-10_20170904093421') # will be work with directory `data`\n",
    "path4data"
   ]
  },
  {
   "cell_type": "code",
   "execution_count": 5,
   "metadata": {},
   "outputs": [
    {
     "data": {
      "text/plain": [
       "289814"
      ]
     },
     "execution_count": 5,
     "metadata": {},
     "output_type": "execute_result"
    },
    {
     "data": {
      "text/plain": [
       "['news_0193918.json',\n",
       " 'news_0096878.json',\n",
       " 'news_0047188.json',\n",
       " 'news_0114688.json',\n",
       " 'news_0111170.json']"
      ]
     },
     "execution_count": 5,
     "metadata": {},
     "output_type": "execute_result"
    }
   ],
   "source": [
    "list_path4data = os.listdir(path4data)\n",
    "len(list_path4data)\n",
    "list_path4data[:5]"
   ]
  },
  {
   "cell_type": "code",
   "execution_count": null,
   "metadata": {},
   "outputs": [],
   "source": []
  },
  {
   "cell_type": "code",
   "execution_count": 6,
   "metadata": {},
   "outputs": [],
   "source": [
    "with open(f'{path4data}/{list_path4data[2]}') as json_file:\n",
    "    test_new = json.load(json_file)"
   ]
  },
  {
   "cell_type": "code",
   "execution_count": 7,
   "metadata": {},
   "outputs": [
    {
     "data": {
      "text/plain": [
       "dict"
      ]
     },
     "execution_count": 7,
     "metadata": {},
     "output_type": "execute_result"
    }
   ],
   "source": [
    "type(test_new)"
   ]
  },
  {
   "cell_type": "code",
   "execution_count": 8,
   "metadata": {},
   "outputs": [
    {
     "name": "stdout",
     "output_type": "stream",
     "text": [
      "{'author': '',\n",
      " 'crawled': '2016-10-08T09:28:27.880+03:00',\n",
      " 'entities': {'locations': [], 'organizations': [], 'persons': []},\n",
      " 'external_links': [],\n",
      " 'highlightText': '',\n",
      " 'highlightTitle': '',\n",
      " 'language': 'russian',\n",
      " 'locations': [],\n",
      " 'ord_in_thread': 0,\n",
      " 'organizations': [],\n",
      " 'persons': [],\n",
      " 'published': '2016-10-08T10:07:00.000+03:00',\n",
      " 'text': 'сообщает Zakon.kz со ссылкой на сайт Атырауского областного суда. '\n",
      "         'статьи 24 Закона «О средствах массовой информации», на '\n",
      "         'распространение продукции иностранных средств массовой информации, '\n",
      "         'нарушающей Конституцию Республики Казахстан и нормы настоящего '\n",
      "         'Закона, в судебном порядке налагается запрет, а для иностранных '\n",
      "         'средств массовой информации, являющихся интернет-ресурсами, – '\n",
      "         'приостановление доступа на указанные интернет-ресурсы на территории '\n",
      "         'Республики Казахстан. сообщить об ошибке . х',\n",
      " 'thread': {'country': 'KZ',\n",
      "            'domain_rank': 5135,\n",
      "            'main_image': 'https://static.zakon.kz/uploads/posts/2016-10/2016100808072180586_ssylki.jpg',\n",
      "            'participants_count': 0,\n",
      "            'performance_score': 0,\n",
      "            'published': '2016-10-08T10:07:00.000+03:00',\n",
      "            'replies_count': 0,\n",
      "            'section_title': 'Казахстанский информационный портал zakon.kz',\n",
      "            'site': 'zakon.kz',\n",
      "            'site_full': 'www.zakon.kz',\n",
      "            'site_section': 'http://pravo.zakon.kz/rss.xml',\n",
      "            'site_type': 'news',\n",
      "            'social': {'facebook': {'comments': 0, 'likes': 0, 'shares': 0},\n",
      "                       'gplus': {'shares': 0},\n",
      "                       'linkedin': {'shares': 0},\n",
      "                       'pinterest': {'shares': 0},\n",
      "                       'stumbledupon': {'shares': 0},\n",
      "                       'vk': {'shares': 0}},\n",
      "            'spam_score': 0.0,\n",
      "            'title': 'Курмангазинский суд запретил сайт с порноиграми',\n",
      "            'title_full': 'Курмангазинский суд запретил сайт с порноиграми',\n",
      "            'url': 'http://www.zakon.kz/4821827-kurmangazinskijj-sud-zapretil-sajjt-s.html',\n",
      "            'uuid': '3fb0216708ff411766f077171829408dca6a66c6'},\n",
      " 'title': 'Курмангазинский суд запретил сайт с порноиграми',\n",
      " 'url': 'http://www.zakon.kz/4821827-kurmangazinskijj-sud-zapretil-sajjt-s.html',\n",
      " 'uuid': '3fb0216708ff411766f077171829408dca6a66c6'}\n"
     ]
    }
   ],
   "source": [
    "pprint(test_new)"
   ]
  },
  {
   "cell_type": "code",
   "execution_count": 9,
   "metadata": {},
   "outputs": [
    {
     "data": {
      "text/plain": [
       "'сообщает Zakon.kz со ссылкой на сайт Атырауского областного суда. статьи 24 Закона «О средствах массовой информации», на распространение продукции иностранных средств массовой информации, нарушающей Конституцию Республики Казахстан и нормы настоящего Закона, в судебном порядке налагается запрет, а для иностранных средств массовой информации, являющихся интернет-ресурсами, – приостановление доступа на указанные интернет-ресурсы на территории Республики Казахстан. сообщить об ошибке . х'"
      ]
     },
     "execution_count": 9,
     "metadata": {},
     "output_type": "execute_result"
    },
    {
     "data": {
      "text/plain": [
       "'Курмангазинский суд запретил сайт с порноиграми'"
      ]
     },
     "execution_count": 9,
     "metadata": {},
     "output_type": "execute_result"
    },
    {
     "data": {
      "text/plain": [
       "'russian'"
      ]
     },
     "execution_count": 9,
     "metadata": {},
     "output_type": "execute_result"
    },
    {
     "data": {
      "text/plain": [
       "'zakon.kz'"
      ]
     },
     "execution_count": 9,
     "metadata": {},
     "output_type": "execute_result"
    },
    {
     "data": {
      "text/plain": [
       "'2016-10-08T10:07:00.000+03:00'"
      ]
     },
     "execution_count": 9,
     "metadata": {},
     "output_type": "execute_result"
    },
    {
     "data": {
      "text/plain": [
       "'http://www.zakon.kz/4821827-kurmangazinskijj-sud-zapretil-sajjt-s.html'"
      ]
     },
     "execution_count": 9,
     "metadata": {},
     "output_type": "execute_result"
    }
   ],
   "source": [
    "test_new['text']\n",
    "test_new['title']\n",
    "test_new['language']\n",
    "test_new['thread']['site']\n",
    "test_new['published']\n",
    "test_new['url']"
   ]
  },
  {
   "cell_type": "code",
   "execution_count": null,
   "metadata": {},
   "outputs": [],
   "source": []
  },
  {
   "cell_type": "markdown",
   "metadata": {},
   "source": [
    "### fill to dataFrame"
   ]
  },
  {
   "cell_type": "code",
   "execution_count": 10,
   "metadata": {},
   "outputs": [
    {
     "name": "stderr",
     "output_type": "stream",
     "text": [
      "  1%|          | 2387/289814 [00:14<47:53, 100.04it/s] "
     ]
    },
    {
     "name": "stdout",
     "output_type": "stream",
     "text": [
      "ERROR: Expecting value: line 1 column 1 (char 0)\n"
     ]
    },
    {
     "data": {
      "text/plain": [
       "0"
      ]
     },
     "execution_count": 10,
     "metadata": {},
     "output_type": "execute_result"
    },
    {
     "name": "stderr",
     "output_type": "stream",
     "text": [
      "100%|██████████| 289814/289814 [2:38:21<00:00, 30.50it/s]  \n"
     ]
    }
   ],
   "source": [
    "df_articles = pd.DataFrame(columns=['site', 'published', 'url', 'text', 'title', 'language'])\n",
    "\n",
    "for new_article in tqdm(list_path4data):\n",
    "    try:\n",
    "        #print(new_article)\n",
    "        \n",
    "        with open(f'{path4data}/{new_article}') as json_file:\n",
    "            readed_article = json.load(json_file)\n",
    "        \n",
    "        df_articles = df_articles.append({'site': readed_article['thread']['site'],\n",
    "                                          'published': readed_article['published'],\n",
    "                                          'url': readed_article['url'],\n",
    "                                          'text': ' '.join(readed_article['text'].split('\\n')),\n",
    "                                          'title': readed_article['title'],\n",
    "                                          'language': readed_article['language']\n",
    "                                         },\n",
    "                                         ignore_index=True\n",
    "                                        )\n",
    "        \n",
    "    except Exception as e:\n",
    "        print(f'ERROR: {e}')\n",
    "        gc.collect()\n"
   ]
  },
  {
   "cell_type": "code",
   "execution_count": 12,
   "metadata": {},
   "outputs": [
    {
     "data": {
      "text/plain": [
       "site         0\n",
       "published    0\n",
       "url          0\n",
       "text         0\n",
       "title        0\n",
       "language     0\n",
       "dtype: int64"
      ]
     },
     "execution_count": 12,
     "metadata": {},
     "output_type": "execute_result"
    }
   ],
   "source": [
    "df_articles.isnull().sum()"
   ]
  },
  {
   "cell_type": "code",
   "execution_count": 13,
   "metadata": {},
   "outputs": [
    {
     "data": {
      "text/plain": [
       "(289813, 6)"
      ]
     },
     "execution_count": 13,
     "metadata": {},
     "output_type": "execute_result"
    },
    {
     "data": {
      "text/html": [
       "<div>\n",
       "<style scoped>\n",
       "    .dataframe tbody tr th:only-of-type {\n",
       "        vertical-align: middle;\n",
       "    }\n",
       "\n",
       "    .dataframe tbody tr th {\n",
       "        vertical-align: top;\n",
       "    }\n",
       "\n",
       "    .dataframe thead th {\n",
       "        text-align: right;\n",
       "    }\n",
       "</style>\n",
       "<table border=\"1\" class=\"dataframe\">\n",
       "  <thead>\n",
       "    <tr style=\"text-align: right;\">\n",
       "      <th></th>\n",
       "      <th>site</th>\n",
       "      <th>published</th>\n",
       "      <th>url</th>\n",
       "      <th>text</th>\n",
       "      <th>title</th>\n",
       "      <th>language</th>\n",
       "    </tr>\n",
       "  </thead>\n",
       "  <tbody>\n",
       "    <tr>\n",
       "      <th>0</th>\n",
       "      <td>mk.ru</td>\n",
       "      <td>2016-10-20T16:02:00.000+03:00</td>\n",
       "      <td>http://kuban.mk.ru/articles/2016/10/20/krasnod...</td>\n",
       "      <td>Краснодарские школы вошли в Топ-500 лучших в Р...</td>\n",
       "      <td>Краснодарские школы вошли в Топ-500 лучших в Р...</td>\n",
       "      <td>russian</td>\n",
       "    </tr>\n",
       "    <tr>\n",
       "      <th>1</th>\n",
       "      <td>vz.ru</td>\n",
       "      <td>2016-10-09T17:02:00.000+03:00</td>\n",
       "      <td>http://www.vz.ru/news/2016/10/9/836974.html</td>\n",
       "      <td>, передает ТАСС .  По данным Haaretz, одна из ...</td>\n",
       "      <td>Террорист обстрелял трамвайную остановку в Иер...</td>\n",
       "      <td>russian</td>\n",
       "    </tr>\n",
       "    <tr>\n",
       "      <th>2</th>\n",
       "      <td>zakon.kz</td>\n",
       "      <td>2016-10-08T10:07:00.000+03:00</td>\n",
       "      <td>http://www.zakon.kz/4821827-kurmangazinskijj-s...</td>\n",
       "      <td>сообщает Zakon.kz со ссылкой на сайт Атырауско...</td>\n",
       "      <td>Курмангазинский суд запретил сайт с порноиграми</td>\n",
       "      <td>russian</td>\n",
       "    </tr>\n",
       "    <tr>\n",
       "      <th>3</th>\n",
       "      <td>kp.ru</td>\n",
       "      <td>2016-10-12T09:00:00.000+03:00</td>\n",
       "      <td>http://www.msk.kp.ru/daily/26593/3608912/</td>\n",
       "      <td>Когда руки не для скуки На выставке будут пред...</td>\n",
       "      <td>Когда руки не для скуки</td>\n",
       "      <td>russian</td>\n",
       "    </tr>\n",
       "    <tr>\n",
       "      <th>4</th>\n",
       "      <td>delfi.ee</td>\n",
       "      <td>2016-10-13T15:00:00.000+03:00</td>\n",
       "      <td>http://bublik.delfi.ee/news/glamour/foto-lolit...</td>\n",
       "      <td>Bublik Instagram Певица Лолита Милявская не ус...</td>\n",
       "      <td>ФОТО: Лолита восхитила сексуальным нарядом</td>\n",
       "      <td>russian</td>\n",
       "    </tr>\n",
       "  </tbody>\n",
       "</table>\n",
       "</div>"
      ],
      "text/plain": [
       "       site                      published  \\\n",
       "0     mk.ru  2016-10-20T16:02:00.000+03:00   \n",
       "1     vz.ru  2016-10-09T17:02:00.000+03:00   \n",
       "2  zakon.kz  2016-10-08T10:07:00.000+03:00   \n",
       "3     kp.ru  2016-10-12T09:00:00.000+03:00   \n",
       "4  delfi.ee  2016-10-13T15:00:00.000+03:00   \n",
       "\n",
       "                                                 url  \\\n",
       "0  http://kuban.mk.ru/articles/2016/10/20/krasnod...   \n",
       "1        http://www.vz.ru/news/2016/10/9/836974.html   \n",
       "2  http://www.zakon.kz/4821827-kurmangazinskijj-s...   \n",
       "3          http://www.msk.kp.ru/daily/26593/3608912/   \n",
       "4  http://bublik.delfi.ee/news/glamour/foto-lolit...   \n",
       "\n",
       "                                                text  \\\n",
       "0  Краснодарские школы вошли в Топ-500 лучших в Р...   \n",
       "1  , передает ТАСС .  По данным Haaretz, одна из ...   \n",
       "2  сообщает Zakon.kz со ссылкой на сайт Атырауско...   \n",
       "3  Когда руки не для скуки На выставке будут пред...   \n",
       "4  Bublik Instagram Певица Лолита Милявская не ус...   \n",
       "\n",
       "                                               title language  \n",
       "0  Краснодарские школы вошли в Топ-500 лучших в Р...  russian  \n",
       "1  Террорист обстрелял трамвайную остановку в Иер...  russian  \n",
       "2    Курмангазинский суд запретил сайт с порноиграми  russian  \n",
       "3                            Когда руки не для скуки  russian  \n",
       "4         ФОТО: Лолита восхитила сексуальным нарядом  russian  "
      ]
     },
     "execution_count": 13,
     "metadata": {},
     "output_type": "execute_result"
    }
   ],
   "source": [
    "#df_articles['id'] = list(range(1,df_articles.shape[0]+1))\n",
    "#df_articles = df_articles[['id','year', 'month', 'title', 'text']]\n",
    "df_articles.shape\n",
    "df_articles.head()"
   ]
  },
  {
   "cell_type": "code",
   "execution_count": null,
   "metadata": {},
   "outputs": [],
   "source": []
  },
  {
   "cell_type": "code",
   "execution_count": null,
   "metadata": {},
   "outputs": [],
   "source": []
  },
  {
   "cell_type": "markdown",
   "metadata": {},
   "source": [
    "### save dataFrme"
   ]
  },
  {
   "cell_type": "code",
   "execution_count": 19,
   "metadata": {},
   "outputs": [],
   "source": [
    "# set path \n",
    "# home_path = os.getenv('HOME') # create home directory\n",
    "dir_project4data_volume = '/Volumes/sdVT/AIkek' # write your main proj directory \n",
    "\n",
    "# path = os.path.join(home_path, dir_project,'data') # will be work with directory `data`\n",
    "path4data_volume = os.path.join(dir_project4data_volume,'data')"
   ]
  },
  {
   "cell_type": "code",
   "execution_count": 20,
   "metadata": {},
   "outputs": [],
   "source": [
    "df_articles.to_csv(f'{path4data_volume}/interim/webhose_2016.csv.gz', compression='gzip', index=False)"
   ]
  },
  {
   "cell_type": "code",
   "execution_count": null,
   "metadata": {},
   "outputs": [],
   "source": []
  },
  {
   "cell_type": "code",
   "execution_count": 21,
   "metadata": {},
   "outputs": [
    {
     "data": {
      "text/plain": [
       "(289813, 6)"
      ]
     },
     "execution_count": 21,
     "metadata": {},
     "output_type": "execute_result"
    },
    {
     "data": {
      "text/html": [
       "<div>\n",
       "<style scoped>\n",
       "    .dataframe tbody tr th:only-of-type {\n",
       "        vertical-align: middle;\n",
       "    }\n",
       "\n",
       "    .dataframe tbody tr th {\n",
       "        vertical-align: top;\n",
       "    }\n",
       "\n",
       "    .dataframe thead th {\n",
       "        text-align: right;\n",
       "    }\n",
       "</style>\n",
       "<table border=\"1\" class=\"dataframe\">\n",
       "  <thead>\n",
       "    <tr style=\"text-align: right;\">\n",
       "      <th></th>\n",
       "      <th>site</th>\n",
       "      <th>published</th>\n",
       "      <th>url</th>\n",
       "      <th>text</th>\n",
       "      <th>title</th>\n",
       "      <th>language</th>\n",
       "    </tr>\n",
       "  </thead>\n",
       "  <tbody>\n",
       "    <tr>\n",
       "      <th>289808</th>\n",
       "      <td>lenta.ru</td>\n",
       "      <td>2016-10-14T16:50:00.000+03:00</td>\n",
       "      <td>https://lenta.ru/news/2016/10/14/kurator/</td>\n",
       "      <td>СМИ назвали имя нового управделами Госдумы Фот...</td>\n",
       "      <td>СМИ назвали имя нового управделами Госдумы</td>\n",
       "      <td>russian</td>\n",
       "    </tr>\n",
       "    <tr>\n",
       "      <th>289809</th>\n",
       "      <td>rg.ru</td>\n",
       "      <td>2016-10-24T00:42:00.000+03:00</td>\n",
       "      <td>https://rg.ru/2016/10/23/minoborony-rf-amerika...</td>\n",
       "      <td>Американцы в Ираке все чаще бомбят мирных жите...</td>\n",
       "      <td>Минобороны РФ: Американцы все чаще бомбят мирн...</td>\n",
       "      <td>russian</td>\n",
       "    </tr>\n",
       "    <tr>\n",
       "      <th>289810</th>\n",
       "      <td>zakon.kz</td>\n",
       "      <td>2016-10-27T15:14:00.000+03:00</td>\n",
       "      <td>http://www.zakon.kz/4825630-prichinu-smerti-zh...</td>\n",
       "      <td>Сайт зоопарка Алматы подвергся хакерской атаке...</td>\n",
       "      <td>Причину смерти жирафа Мелмана на сайте зоопарк...</td>\n",
       "      <td>russian</td>\n",
       "    </tr>\n",
       "    <tr>\n",
       "      <th>289811</th>\n",
       "      <td>archive.is</td>\n",
       "      <td>2016-10-03T23:20:00.000+03:00</td>\n",
       "      <td>http://archive.is/QA0Pp</td>\n",
       "      <td>last seen today at 2:13 pm Anna Trokhina Lana ...</td>\n",
       "      <td>Anna Trokhina</td>\n",
       "      <td>russian</td>\n",
       "    </tr>\n",
       "    <tr>\n",
       "      <th>289812</th>\n",
       "      <td>aif.ru</td>\n",
       "      <td>2016-10-27T17:57:00.000+03:00</td>\n",
       "      <td>http://www.aif.ru/auto/roads/sotni_fur_iz_ross...</td>\n",
       "      <td>Сотни фур из России стоят в очереди на украино...</td>\n",
       "      <td>Сотни фур из России стоят в очереди на украино...</td>\n",
       "      <td>russian</td>\n",
       "    </tr>\n",
       "  </tbody>\n",
       "</table>\n",
       "</div>"
      ],
      "text/plain": [
       "              site                      published  \\\n",
       "289808    lenta.ru  2016-10-14T16:50:00.000+03:00   \n",
       "289809       rg.ru  2016-10-24T00:42:00.000+03:00   \n",
       "289810    zakon.kz  2016-10-27T15:14:00.000+03:00   \n",
       "289811  archive.is  2016-10-03T23:20:00.000+03:00   \n",
       "289812      aif.ru  2016-10-27T17:57:00.000+03:00   \n",
       "\n",
       "                                                      url  \\\n",
       "289808          https://lenta.ru/news/2016/10/14/kurator/   \n",
       "289809  https://rg.ru/2016/10/23/minoborony-rf-amerika...   \n",
       "289810  http://www.zakon.kz/4825630-prichinu-smerti-zh...   \n",
       "289811                            http://archive.is/QA0Pp   \n",
       "289812  http://www.aif.ru/auto/roads/sotni_fur_iz_ross...   \n",
       "\n",
       "                                                     text  \\\n",
       "289808  СМИ назвали имя нового управделами Госдумы Фот...   \n",
       "289809  Американцы в Ираке все чаще бомбят мирных жите...   \n",
       "289810  Сайт зоопарка Алматы подвергся хакерской атаке...   \n",
       "289811  last seen today at 2:13 pm Anna Trokhina Lana ...   \n",
       "289812  Сотни фур из России стоят в очереди на украино...   \n",
       "\n",
       "                                                    title language  \n",
       "289808         СМИ назвали имя нового управделами Госдумы  russian  \n",
       "289809  Минобороны РФ: Американцы все чаще бомбят мирн...  russian  \n",
       "289810  Причину смерти жирафа Мелмана на сайте зоопарк...  russian  \n",
       "289811                                      Anna Trokhina  russian  \n",
       "289812  Сотни фур из России стоят в очереди на украино...  russian  "
      ]
     },
     "execution_count": 21,
     "metadata": {},
     "output_type": "execute_result"
    }
   ],
   "source": [
    "df_articles_read = pd.read_csv(f'{path4data_volume}/interim/webhose_2016.csv.gz', compression='gzip')\n",
    "df_articles_read.shape\n",
    "df_articles_read.tail()"
   ]
  },
  {
   "cell_type": "code",
   "execution_count": null,
   "metadata": {},
   "outputs": [],
   "source": []
  },
  {
   "cell_type": "code",
   "execution_count": null,
   "metadata": {},
   "outputs": [],
   "source": []
  }
 ],
 "metadata": {
  "kernelspec": {
   "display_name": "Python 3",
   "language": "python",
   "name": "python3"
  },
  "language_info": {
   "codemirror_mode": {
    "name": "ipython",
    "version": 3
   },
   "file_extension": ".py",
   "mimetype": "text/x-python",
   "name": "python",
   "nbconvert_exporter": "python",
   "pygments_lexer": "ipython3",
   "version": "3.7.3"
  }
 },
 "nbformat": 4,
 "nbformat_minor": 4
}
