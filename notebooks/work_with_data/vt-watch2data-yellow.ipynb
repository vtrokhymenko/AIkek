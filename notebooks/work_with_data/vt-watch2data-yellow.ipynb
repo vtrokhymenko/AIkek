{
 "cells": [
  {
   "cell_type": "code",
   "execution_count": 1,
   "metadata": {},
   "outputs": [
    {
     "name": "stdout",
     "output_type": "stream",
     "text": [
      "/Volumes/sdVT/AIkek/env_aikek/bin/python\n",
      "Python 3.7.3\n",
      "/Volumes/sdVT/AIkek/notebooks/work_with_data\n"
     ]
    }
   ],
   "source": [
    "!which python\n",
    "!python -V\n",
    "!pwd"
   ]
  },
  {
   "cell_type": "code",
   "execution_count": 3,
   "metadata": {},
   "outputs": [],
   "source": [
    "# import warnings\n",
    "# warnings.filterwarnings('ignore')"
   ]
  },
  {
   "cell_type": "code",
   "execution_count": 3,
   "metadata": {},
   "outputs": [],
   "source": [
    "import os\n",
    "\n",
    "# set path \n",
    "# home_path = os.getenv('HOME') # create home directory\n",
    "dir_project = '/Volumes/sdVT/AIkek' # write your main proj directory \n",
    "\n",
    "# path = os.path.join(home_path, dir_project,'data') # will be work with directory `data`\n",
    "path4data = os.path.join(dir_project,'data')"
   ]
  },
  {
   "cell_type": "code",
   "execution_count": 9,
   "metadata": {},
   "outputs": [],
   "source": [
    "import pandas as pd\n",
    "import numpy as np"
   ]
  },
  {
   "cell_type": "markdown",
   "metadata": {},
   "source": [
    "___"
   ]
  },
  {
   "cell_type": "code",
   "execution_count": 65,
   "metadata": {},
   "outputs": [
    {
     "name": "stdout",
     "output_type": "stream",
     "text": [
      "(10761, 2)\n"
     ]
    },
    {
     "data": {
      "text/html": [
       "<div>\n",
       "<style scoped>\n",
       "    .dataframe tbody tr th:only-of-type {\n",
       "        vertical-align: middle;\n",
       "    }\n",
       "\n",
       "    .dataframe tbody tr th {\n",
       "        vertical-align: top;\n",
       "    }\n",
       "\n",
       "    .dataframe thead th {\n",
       "        text-align: right;\n",
       "    }\n",
       "</style>\n",
       "<table border=\"1\" class=\"dataframe\">\n",
       "  <thead>\n",
       "    <tr style=\"text-align: right;\">\n",
       "      <th></th>\n",
       "      <th>text</th>\n",
       "      <th>is_yellow</th>\n",
       "    </tr>\n",
       "  </thead>\n",
       "  <tbody>\n",
       "    <tr>\n",
       "      <th>0</th>\n",
       "      <td>Американские ученые совершили прорыв в области...</td>\n",
       "      <td>1</td>\n",
       "    </tr>\n",
       "    <tr>\n",
       "      <th>1</th>\n",
       "      <td>СМИ сообщили, что Пугачева купила квартиру в Л...</td>\n",
       "      <td>1</td>\n",
       "    </tr>\n",
       "  </tbody>\n",
       "</table>\n",
       "</div>"
      ],
      "text/plain": [
       "                                                text  is_yellow\n",
       "0  Американские ученые совершили прорыв в области...          1\n",
       "1  СМИ сообщили, что Пугачева купила квартиру в Л...          1"
      ]
     },
     "execution_count": 65,
     "metadata": {},
     "output_type": "execute_result"
    }
   ],
   "source": [
    "#df_yellow = pd.read_csv(f'{path4data}/interim/df_yellow.csv')\n",
    "df_yellow = pd.read_csv(f'{processed}/interim/yellow.csv')\n",
    "print(df_yellow.shape)\n",
    "df_yellow.head(2)"
   ]
  },
  {
   "cell_type": "code",
   "execution_count": 7,
   "metadata": {},
   "outputs": [
    {
     "data": {
      "text/plain": [
       "text         0\n",
       "is_yellow    0\n",
       "dtype: int64"
      ]
     },
     "execution_count": 7,
     "metadata": {},
     "output_type": "execute_result"
    }
   ],
   "source": [
    "df_yellow.isnull().sum()"
   ]
  },
  {
   "cell_type": "code",
   "execution_count": 8,
   "metadata": {},
   "outputs": [
    {
     "data": {
      "text/plain": [
       "0    6561\n",
       "1    4200\n",
       "Name: is_yellow, dtype: int64"
      ]
     },
     "execution_count": 8,
     "metadata": {},
     "output_type": "execute_result"
    }
   ],
   "source": [
    "df_yellow.is_yellow.value_counts()"
   ]
  },
  {
   "cell_type": "code",
   "execution_count": null,
   "metadata": {},
   "outputs": [],
   "source": []
  },
  {
   "cell_type": "code",
   "execution_count": 68,
   "metadata": {},
   "outputs": [
    {
     "name": "stdout",
     "output_type": "stream",
     "text": [
      "в сша обнаружен один из самых больших запасов пресной воды\n",
      "Когда развод пошел на пользу. Матильда очень похорошела\n",
      "Врачи онемели! Боль в суставах уходит, хрящи регенерируют если на 7 мин приложить...\n",
      "Так закалялась сталь\n",
      "проблем которые нужно решить перед поездкой на марс\n",
      "nasa boeing и spacex отправят людей на мкс в году\n",
      "видеo растения способны есть позвоночных животных\n",
      "Видео курс практической робототехники на Lego NXT\n",
      "открытие безмассовой частицы может серьезно ускорить электронику\n",
      "владельцам xbox one стали доступны trial версии игр\n"
     ]
    }
   ],
   "source": [
    "for item in range(10):\n",
    "    print(df_yellow.text[np.random.randint(df_yellow.shape[0])])"
   ]
  },
  {
   "cell_type": "code",
   "execution_count": null,
   "metadata": {},
   "outputs": [],
   "source": []
  }
 ],
 "metadata": {
  "kernelspec": {
   "display_name": "Python 3",
   "language": "python",
   "name": "python3"
  },
  "language_info": {
   "codemirror_mode": {
    "name": "ipython",
    "version": 3
   },
   "file_extension": ".py",
   "mimetype": "text/x-python",
   "name": "python",
   "nbconvert_exporter": "python",
   "pygments_lexer": "ipython3",
   "version": "3.7.3"
  }
 },
 "nbformat": 4,
 "nbformat_minor": 4
}
